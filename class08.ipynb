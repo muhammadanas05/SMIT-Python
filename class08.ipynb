{
 "cells": [
  {
   "cell_type": "code",
   "execution_count": 1,
   "metadata": {},
   "outputs": [],
   "source": [
    "def calculate_tax(tot_sale, sale_tax=0.22):\n",
    "    Tax = tot_sale * sale_tax\n",
    "    print(\"The product of tot_sale and sale_tax is:\", Tax)"
   ]
  },
  {
   "cell_type": "code",
   "execution_count": 2,
   "metadata": {},
   "outputs": [
    {
     "name": "stdout",
     "output_type": "stream",
     "text": [
      "The product of tot_sale and sale_tax is: 110.0\n"
     ]
    }
   ],
   "source": [
    "# Example usage:\n",
    "calculate_tax(1000,0.11)"
   ]
  },
  {
   "cell_type": "markdown",
   "metadata": {},
   "source": [
    "# Returning Functions"
   ]
  },
  {
   "cell_type": "code",
   "execution_count": 3,
   "metadata": {},
   "outputs": [],
   "source": [
    "def calculate_tax(tot_sale, sale_tax=0.22):\n",
    "    tax = tot_sale * sale_tax\n",
    "    return tax"
   ]
  },
  {
   "cell_type": "code",
   "execution_count": 4,
   "metadata": {},
   "outputs": [
    {
     "data": {
      "text/plain": [
       "110.0"
      ]
     },
     "execution_count": 4,
     "metadata": {},
     "output_type": "execute_result"
    }
   ],
   "source": [
    "calculate_tax(1000,0.11)"
   ]
  },
  {
   "cell_type": "markdown",
   "metadata": {},
   "source": [
    "## Functions as variables"
   ]
  },
  {
   "cell_type": "code",
   "execution_count": 5,
   "metadata": {},
   "outputs": [],
   "source": [
    "def calculate_tax(tot_sale, sale_tax=0.22):\n",
    "    tax = tot_sale * sale_tax\n",
    "    print(tax) #its printing not returning"
   ]
  },
  {
   "cell_type": "code",
   "execution_count": 6,
   "metadata": {},
   "outputs": [
    {
     "name": "stdout",
     "output_type": "stream",
     "text": [
      "440.0\n"
     ]
    }
   ],
   "source": [
    "tax = calculate_tax(tot_sale=2000,sale_tax=0.22)"
   ]
  },
  {
   "cell_type": "code",
   "execution_count": 7,
   "metadata": {},
   "outputs": [
    {
     "name": "stdout",
     "output_type": "stream",
     "text": [
      "None\n"
     ]
    }
   ],
   "source": [
    "print(tax) #no value in tax."
   ]
  },
  {
   "cell_type": "code",
   "execution_count": 8,
   "metadata": {},
   "outputs": [],
   "source": [
    "def calculate_tax(tot_sale, sale_tax=0.22):\n",
    "    tax = tot_sale * sale_tax\n",
    "    return tax"
   ]
  },
  {
   "cell_type": "code",
   "execution_count": 9,
   "metadata": {},
   "outputs": [],
   "source": [
    "tax = calculate_tax(tot_sale=2000,sale_tax=0.22)"
   ]
  },
  {
   "cell_type": "code",
   "execution_count": 10,
   "metadata": {},
   "outputs": [
    {
     "data": {
      "text/plain": [
       "440.0"
      ]
     },
     "execution_count": 10,
     "metadata": {},
     "output_type": "execute_result"
    }
   ],
   "source": [
    "tax"
   ]
  },
  {
   "cell_type": "code",
   "execution_count": 11,
   "metadata": {},
   "outputs": [],
   "source": [
    "customers = {1: {'first name': 'Anas', 'last name': 'Muhammad', 'address': '123 Street'},\n",
    "2 : {'first name': 'Jane', 'last name': 'Smith', 'address': '456 Avenue'},\n",
    "3 : {'first name': 'Ali', 'last name': 'Bilal', 'address': '789 Road'},\n",
    "4: {'first name': 'Rafay', 'last name': 'Muhammad', 'address': 'Karachi'}\n",
    "}"
   ]
  },
  {
   "cell_type": "code",
   "execution_count": 12,
   "metadata": {},
   "outputs": [],
   "source": [
    "def customer_details(customers_dict, customers, details):\n",
    "    return customers_dict[customers][details]"
   ]
  },
  {
   "cell_type": "code",
   "execution_count": 13,
   "metadata": {},
   "outputs": [
    {
     "data": {
      "text/plain": [
       "'Muhammad'"
      ]
     },
     "execution_count": 13,
     "metadata": {},
     "output_type": "execute_result"
    }
   ],
   "source": [
    "customer_details(customers,1,'last name')"
   ]
  },
  {
   "cell_type": "markdown",
   "metadata": {},
   "source": [
    "## DEALING WITH UNKNOWN ARGUMENTS"
   ]
  },
  {
   "cell_type": "code",
   "execution_count": 14,
   "metadata": {},
   "outputs": [],
   "source": [
    "def olymic_winner(winner_name, winner_score):\n",
    "    print(f\"Winner name is: {winner_name} & its score is {winner_score}\")"
   ]
  },
  {
   "cell_type": "code",
   "execution_count": 15,
   "metadata": {},
   "outputs": [
    {
     "name": "stdout",
     "output_type": "stream",
     "text": [
      "Winner name is: Dawood & its score is 10\n"
     ]
    }
   ],
   "source": [
    "olymic_winner(\"Dawood\", 10)"
   ]
  },
  {
   "cell_type": "code",
   "execution_count": 16,
   "metadata": {},
   "outputs": [],
   "source": [
    "def olymic_winner(winner_name, winner_score, **kwargs):\n",
    "    print(f\"Winner name is: {winner_name} & its score is {winner_score}\")"
   ]
  },
  {
   "cell_type": "code",
   "execution_count": 17,
   "metadata": {},
   "outputs": [
    {
     "name": "stdout",
     "output_type": "stream",
     "text": [
      "Winner name is: Bilal & its score is 5\n"
     ]
    }
   ],
   "source": [
    "olymic_winner(\"Bilal\", 5, injuries= True)"
   ]
  },
  {
   "cell_type": "code",
   "execution_count": 18,
   "metadata": {},
   "outputs": [],
   "source": [
    "def olymic_winner(winner_name, winner_score, **kwargs):\n",
    "    print(f\"Winner name is: {winner_name} & its score is {winner_score}\")\n",
    "\n",
    "    for key, value in kwarg.items():\n",
    "        print(f\"{key}--->{items}\")"
   ]
  },
  {
   "cell_type": "markdown",
   "metadata": {},
   "source": [
    "# Complete above code"
   ]
  },
  {
   "cell_type": "markdown",
   "metadata": {},
   "source": [
    "## Dealing with *arg"
   ]
  },
  {
   "cell_type": "code",
   "execution_count": 19,
   "metadata": {},
   "outputs": [],
   "source": [
    "def olymic_winner(winner_name, winner_score, *args):\n",
    "    print(f\"Winner name is: {winner_name} & its score is {winner_score}\")\n",
    "    print(args)\n",
    "    for arg in args:\n",
    "        print(f\"{arg}\")"
   ]
  },
  {
   "cell_type": "code",
   "execution_count": null,
   "metadata": {},
   "outputs": [],
   "source": []
  },
  {
   "cell_type": "markdown",
   "metadata": {},
   "source": [
    "## Local vs Global Variable"
   ]
  },
  {
   "cell_type": "code",
   "execution_count": 20,
   "metadata": {},
   "outputs": [
    {
     "name": "stdout",
     "output_type": "stream",
     "text": [
      "global is: 10\n",
      "local is: 5\n",
      "Outside the function, global is: 10\n"
     ]
    }
   ],
   "source": [
    "x = 10 # GGlobal Variable\n",
    "\n",
    "def fun():\n",
    "    # Local variable\n",
    "    y = 5\n",
    "    print(\"global is:\", x)\n",
    "    print(\"local is:\", y)\n",
    "\n",
    "fun()\n",
    "\n",
    "print(\"Outside the function, global is:\", x)\n",
    "# print(\"Outside the function, y (local) is:\", y)"
   ]
  },
  {
   "cell_type": "code",
   "execution_count": 21,
   "metadata": {},
   "outputs": [],
   "source": [
    "global tax_rate\n",
    "tax_rate = 0.25\n",
    "\n",
    "def add():\n",
    "    a=50\n",
    "    b=45\n",
    "    tot=a+b\n",
    "    tax=tot*tax_rate\n",
    "    return tot,tax"
   ]
  },
  {
   "cell_type": "code",
   "execution_count": 22,
   "metadata": {},
   "outputs": [
    {
     "data": {
      "text/plain": [
       "(95, 23.75)"
      ]
     },
     "execution_count": 22,
     "metadata": {},
     "output_type": "execute_result"
    }
   ],
   "source": [
    "add()"
   ]
  },
  {
   "cell_type": "code",
   "execution_count": 23,
   "metadata": {},
   "outputs": [],
   "source": [
    "global discount_rate\n",
    "discount_rate = 0.1\n",
    "\n",
    "def calculate_discount():\n",
    "    original_price = 200\n",
    "    quantity = 3\n",
    "    total_price = original_price * quantity\n",
    "    discount = total_price * discount_rate  \n",
    "    final_price = total_price - discount\n",
    "    return total_price, discount, final_price"
   ]
  },
  {
   "cell_type": "code",
   "execution_count": 24,
   "metadata": {},
   "outputs": [
    {
     "name": "stdout",
     "output_type": "stream",
     "text": [
      "Total Price: 600\n",
      "Discount Amount: 60.0\n",
      "Final Price after Discount: 540.0\n"
     ]
    }
   ],
   "source": [
    "total, discount_amount, final = calculate_discount()\n",
    "print(\"Total Price:\", total)\n",
    "print(\"Discount Amount:\", discount_amount)\n",
    "print(\"Final Price after Discount:\", final)"
   ]
  },
  {
   "cell_type": "code",
   "execution_count": 25,
   "metadata": {},
   "outputs": [
    {
     "name": "stdout",
     "output_type": "stream",
     "text": [
      "Sales After Tax: 16500.0\n"
     ]
    }
   ],
   "source": [
    "tax_rate = 0.25\n",
    "\n",
    "def sales_after_tax(total_sales):\n",
    "    tax = total_sales * tax_rate\n",
    "    sales_with_tax = total_sales - tax\n",
    "    return sales_with_tax\n",
    "\n",
    "def tot_sales(store1, store2, store3):\n",
    "    total_sales = store1 + store2 + store3\n",
    "    return sales_after_tax(total_sales)\n",
    "\n",
    "total_sales = tot_sales(5000, 8000, 9000)\n",
    "print(\"Sales After Tax:\", total_sales)"
   ]
  },
  {
   "cell_type": "markdown",
   "metadata": {},
   "source": [
    "# While Loop"
   ]
  },
  {
   "cell_type": "code",
   "execution_count": 26,
   "metadata": {},
   "outputs": [],
   "source": [
    "countries = ['Pakistan', 'Bangladesh', 'India']\n",
    "\n",
    "condition = True\n",
    "while condition:\n",
    "    usr_input = input(\"Enter a country name (or type 'exit' to quit): \")\n",
    "    \n",
    "    if usr_input in countries:\n",
    "        print(f\"{usr_input} is available countries.\")\n",
    "    condition = False"
   ]
  },
  {
   "cell_type": "code",
   "execution_count": 27,
   "metadata": {},
   "outputs": [],
   "source": [
    "# countries = ['Pakistan', 'Bangladesh', 'India']\n",
    "\n",
    "# user_input = ''\n",
    "# while user_input != 'q':\n",
    "#     usr_input = input(\"Enter a country name (or type 'exit' to quit): \")\n",
    "    \n",
    "#     if usr_input in countries:\n",
    "#         print(f\"{usr_input} is available countries.\")\n",
    "#     condition = False"
   ]
  },
  {
   "cell_type": "code",
   "execution_count": 28,
   "metadata": {},
   "outputs": [
    {
     "name": "stdout",
     "output_type": "stream",
     "text": [
      " is not available countries.\n",
      " is not available countries.\n"
     ]
    }
   ],
   "source": [
    "countries = ['Pakistan', 'Bangladesh', 'India']\n",
    "\n",
    "while True:\n",
    "    usr_input = input(\"Enter a country name (or type 'quit' to quit): \")\n",
    "    \n",
    "    if usr_input == 'quit':\n",
    "        break\n",
    "    \n",
    "    if usr_input in countries:\n",
    "        print(f\"{usr_input} is available countries.\")\n",
    "    else:\n",
    "        print(f\"{usr_input} is not available countries.\")"
   ]
  },
  {
   "cell_type": "code",
   "execution_count": null,
   "metadata": {},
   "outputs": [],
   "source": []
  }
 ],
 "metadata": {
  "kernelspec": {
   "display_name": "base",
   "language": "python",
   "name": "python3"
  },
  "language_info": {
   "codemirror_mode": {
    "name": "ipython",
    "version": 3
   },
   "file_extension": ".py",
   "mimetype": "text/x-python",
   "name": "python",
   "nbconvert_exporter": "python",
   "pygments_lexer": "ipython3",
   "version": "3.11.7"
  }
 },
 "nbformat": 4,
 "nbformat_minor": 2
}
