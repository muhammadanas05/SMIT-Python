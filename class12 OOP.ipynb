{
 "cells": [
  {
   "cell_type": "markdown",
   "metadata": {},
   "source": [
    "# OOP --> object oriented programming\n",
    "\n",
    "## Pillars of OOP:\n",
    "### 1- Inheritance \n",
    "### 2- Polymorphism\n",
    "### 3- Abstraction\n",
    "### 4- Encalsualtion"
   ]
  },
  {
   "cell_type": "code",
   "execution_count": 15,
   "metadata": {},
   "outputs": [],
   "source": [
    "class Parent():\n",
    "    \n",
    "    #Constructor\n",
    "    def __init__(self, eye_color, skin_color):\n",
    "        self.eye_color = eye_color #attribute\n",
    "        self.skin_color = skin_color\n",
    "\n",
    "    # Method\n",
    "    def speak(self):\n",
    "        print(f\"Can Speak\")\n",
    "\n",
    "class child(Parent):\n",
    "    #Constructor\n",
    "    def __init__(self, eye_color, skin_color, hair_color):\n",
    "        super().__init__(eye_color, skin_color) #calling parent class constructor\n",
    "        self.hair_color = hair_color\n",
    "    \n",
    "    def other_activities(self):\n",
    "        print(\"Can Do Programming\")"
   ]
  },
  {
   "cell_type": "markdown",
   "metadata": {},
   "source": [
    "### Parent Class Obj"
   ]
  },
  {
   "cell_type": "code",
   "execution_count": 7,
   "metadata": {},
   "outputs": [
    {
     "name": "stdout",
     "output_type": "stream",
     "text": [
      "blue\n",
      "brown\n",
      "Can Speak\n"
     ]
    }
   ],
   "source": [
    "parent_obj = Parent('blue','brown')\n",
    "print(parent_obj.eye_color) \n",
    "print(parent_obj.skin_color) \n",
    "parent_obj.speak()"
   ]
  },
  {
   "cell_type": "markdown",
   "metadata": {},
   "source": [
    "### Child Class Obj"
   ]
  },
  {
   "cell_type": "code",
   "execution_count": 14,
   "metadata": {},
   "outputs": [
    {
     "name": "stdout",
     "output_type": "stream",
     "text": [
      "Grey\n",
      "Brown\n",
      "Can Speak\n",
      "Can Do Programming\n"
     ]
    }
   ],
   "source": [
    "child_obj = child('Grey','Brown')\n",
    "print(child_obj.eye_color)\n",
    "print(child_obj.skin_color)\n",
    "child_obj.speak()\n",
    "child_obj.other_activities()"
   ]
  },
  {
   "cell_type": "markdown",
   "metadata": {},
   "source": [
    "## Child class with Ineritance & one new attribute & behaviour"
   ]
  },
  {
   "cell_type": "code",
   "execution_count": 16,
   "metadata": {},
   "outputs": [
    {
     "name": "stdout",
     "output_type": "stream",
     "text": [
      "Red\n",
      "Fair\n",
      "Black\n"
     ]
    }
   ],
   "source": [
    "child_obj2 = child('Red','Fair','Black')\n",
    "print(child_obj2.eye_color)\n",
    "print(child_obj2.skin_color)\n",
    "print(child_obj2.hair_color)"
   ]
  },
  {
   "cell_type": "markdown",
   "metadata": {},
   "source": [
    "## TASK"
   ]
  },
  {
   "cell_type": "code",
   "execution_count": 18,
   "metadata": {},
   "outputs": [],
   "source": [
    "class Account:\n",
    "    def __init__(self, name: str, id: int, balance: int):\n",
    "        \n",
    "        self.name = name\n",
    "        self.id = id\n",
    "        self.balance = balance\n",
    "\n",
    "    \n",
    "    def balance_inquiry(self):\n",
    "        print(f\"{self.name} Current Balance Is :: {self.balance}\")\n",
    "\n",
    "    def withdraw_money(self):\n",
    "        return f\"{self.name} Withdraw Money Successfully\"\n",
    "\n",
    "\n"
   ]
  },
  {
   "cell_type": "code",
   "execution_count": 20,
   "metadata": {},
   "outputs": [],
   "source": [
    "class SBI(Account):\n",
    "    pass"
   ]
  },
  {
   "cell_type": "code",
   "execution_count": 21,
   "metadata": {},
   "outputs": [],
   "source": [
    "class ICIC(Account):\n",
    "    pass"
   ]
  },
  {
   "cell_type": "code",
   "execution_count": 24,
   "metadata": {},
   "outputs": [],
   "source": [
    "sbi_obj = SBI('Khan',107,20000)\n",
    "icic_obj = ICIC('Bilal', 1005, 30000)"
   ]
  },
  {
   "cell_type": "code",
   "execution_count": 25,
   "metadata": {},
   "outputs": [
    {
     "name": "stdout",
     "output_type": "stream",
     "text": [
      "Khan Current Balance Is :: 20000\n"
     ]
    }
   ],
   "source": [
    "sbi_obj.balance_inquiry()"
   ]
  },
  {
   "cell_type": "code",
   "execution_count": 26,
   "metadata": {},
   "outputs": [
    {
     "data": {
      "text/plain": [
       "'Khan Withdraw Money Successfully'"
      ]
     },
     "execution_count": 26,
     "metadata": {},
     "output_type": "execute_result"
    }
   ],
   "source": [
    "sbi_obj.withdraw_money()"
   ]
  },
  {
   "cell_type": "code",
   "execution_count": 27,
   "metadata": {},
   "outputs": [
    {
     "name": "stdout",
     "output_type": "stream",
     "text": [
      "Bilal Current Balance Is :: 30000\n"
     ]
    }
   ],
   "source": [
    "icic_obj.balance_inquiry()"
   ]
  },
  {
   "cell_type": "markdown",
   "metadata": {},
   "source": [
    "## Father \n",
    "### eye_color\n",
    "### speak()"
   ]
  },
  {
   "cell_type": "code",
   "execution_count": 29,
   "metadata": {},
   "outputs": [],
   "source": [
    "class Father():\n",
    "    def __init__(self, eye_color):\n",
    "        self.eye_color = eye_color\n",
    "\n",
    "    def speak(self):\n",
    "        print(\"Hello, I am a father\")\n",
    "\n",
    "class Mother():\n",
    "    def __init__(self, skin_color):\n",
    "        self.skin_color = skin_color\n",
    "\n",
    "    def teach(self):\n",
    "        print(\"I am teaching my child\")\n",
    "\n",
    "class child(Father, Mother):\n",
    "    def __init__(self, eye_color, skin_color):\n",
    "        Father.__init__(self, eye_color)\n",
    "        Mother.__init__(self, skin_color)    "
   ]
  },
  {
   "cell_type": "code",
   "execution_count": 30,
   "metadata": {},
   "outputs": [],
   "source": [
    "c_obj = child('Grey', 'White')"
   ]
  },
  {
   "cell_type": "code",
   "execution_count": 34,
   "metadata": {},
   "outputs": [
    {
     "name": "stdout",
     "output_type": "stream",
     "text": [
      "Grey\n",
      "White\n",
      "Hello, I am a father\n",
      "I am teaching my child\n"
     ]
    }
   ],
   "source": [
    "print(c_obj.eye_color)\n",
    "print(c_obj.skin_color)\n",
    "c_obj.speak()\n",
    "c_obj.teach()"
   ]
  },
  {
   "cell_type": "code",
   "execution_count": null,
   "metadata": {},
   "outputs": [],
   "source": []
  }
 ],
 "metadata": {
  "kernelspec": {
   "display_name": "base",
   "language": "python",
   "name": "python3"
  },
  "language_info": {
   "codemirror_mode": {
    "name": "ipython",
    "version": 3
   },
   "file_extension": ".py",
   "mimetype": "text/x-python",
   "name": "python",
   "nbconvert_exporter": "python",
   "pygments_lexer": "ipython3",
   "version": "3.11.7"
  }
 },
 "nbformat": 4,
 "nbformat_minor": 2
}
