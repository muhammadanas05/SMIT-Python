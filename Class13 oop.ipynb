{
 "cells": [
  {
   "cell_type": "markdown",
   "metadata": {},
   "source": [
    "## Abstraction"
   ]
  },
  {
   "cell_type": "code",
   "execution_count": 1,
   "metadata": {},
   "outputs": [],
   "source": [
    "class shapes():\n",
    "    \n",
    "    def sides(self):\n",
    "        pass"
   ]
  },
  {
   "cell_type": "code",
   "execution_count": 4,
   "metadata": {},
   "outputs": [],
   "source": [
    "class triangle(shapes):\n",
    "\n",
    "    def sides(self):\n",
    "        print(\"Triangle is three sided\")\n",
    "\n",
    "class square(shapes):\n",
    "\n",
    "    def sides(self):\n",
    "        print(\"Square is four sided\")\n"
   ]
  },
  {
   "cell_type": "code",
   "execution_count": 5,
   "metadata": {},
   "outputs": [
    {
     "name": "stdout",
     "output_type": "stream",
     "text": [
      "Triangle is three sided\n"
     ]
    }
   ],
   "source": [
    "Tri = triangle()\n",
    "Tri.sides()\n"
   ]
  },
  {
   "cell_type": "code",
   "execution_count": 6,
   "metadata": {},
   "outputs": [
    {
     "name": "stdout",
     "output_type": "stream",
     "text": [
      "Square is four sided\n"
     ]
    }
   ],
   "source": [
    "Sq = square()\n",
    "Sq.sides()"
   ]
  },
  {
   "cell_type": "markdown",
   "metadata": {},
   "source": [
    "## Overloading\n",
    "\n",
    "- let your method know you'll act in different scenerio"
   ]
  },
  {
   "cell_type": "code",
   "execution_count": 12,
   "metadata": {},
   "outputs": [],
   "source": [
    "from typing import overload\n",
    "class Adder():\n",
    "\n",
    "    @overload\n",
    "    def add(self, a: int, c: int) -> int:\n",
    "        ...\n",
    "\n",
    "    @overload\n",
    "    def add(self, a: float, b: float) -> float:\n",
    "        ...\n",
    "\n",
    "    @overload\n",
    "    def add(self, a: str, b: str) -> str:\n",
    "        ...\n",
    "\n",
    "    def add(self, a, b):\n",
    "        if isinstance(a, int) and isinstance(b, int):\n",
    "            return a + b\n",
    "        elif isinstance(a, float) and isinstance(b, float):\n",
    "            return a + b\n",
    "        elif isinstance(a, str) and isinstance(b, str):\n",
    "            return a + b\n",
    "        else:\n",
    "            raise TypeError(\"Unsupported operand types\")\n"
   ]
  },
  {
   "cell_type": "code",
   "execution_count": 13,
   "metadata": {},
   "outputs": [],
   "source": [
    "a1 = Adder()"
   ]
  },
  {
   "cell_type": "code",
   "execution_count": 25,
   "metadata": {},
   "outputs": [
    {
     "data": {
      "text/plain": [
       "3"
      ]
     },
     "execution_count": 25,
     "metadata": {},
     "output_type": "execute_result"
    }
   ],
   "source": [
    "a1.add(1,2)"
   ]
  },
  {
   "cell_type": "code",
   "execution_count": 26,
   "metadata": {},
   "outputs": [
    {
     "data": {
      "text/plain": [
       "5.4"
      ]
     },
     "execution_count": 26,
     "metadata": {},
     "output_type": "execute_result"
    }
   ],
   "source": [
    "a1.add(2.2,3.2)"
   ]
  },
  {
   "cell_type": "code",
   "execution_count": 24,
   "metadata": {},
   "outputs": [
    {
     "data": {
      "text/plain": [
       "'abc  xyz'"
      ]
     },
     "execution_count": 24,
     "metadata": {},
     "output_type": "execute_result"
    }
   ],
   "source": [
    "a1.add(\"abc \",\" xyz\")"
   ]
  },
  {
   "cell_type": "code",
   "execution_count": 28,
   "metadata": {},
   "outputs": [],
   "source": [
    "# a1.add(1,2.2)    ERROR"
   ]
  },
  {
   "cell_type": "markdown",
   "metadata": {},
   "source": [
    "## OverRiding\n",
    "\n",
    "- Getting the last updated method/attribute"
   ]
  },
  {
   "cell_type": "code",
   "execution_count": 30,
   "metadata": {},
   "outputs": [],
   "source": [
    "class Animal():\n",
    "    def eating(self,food):\n",
    "        print(f\"Animal is eating {food}\")\n",
    "\n",
    "class Bird(Animal):\n",
    "    def eating(self, food):\n",
    "        print(f\"bird is eating {food}\")\n",
    "        "
   ]
  },
  {
   "cell_type": "code",
   "execution_count": 31,
   "metadata": {},
   "outputs": [],
   "source": [
    "b = Bird()"
   ]
  },
  {
   "cell_type": "code",
   "execution_count": 32,
   "metadata": {},
   "outputs": [
    {
     "name": "stdout",
     "output_type": "stream",
     "text": [
      "bird is eating fruit\n"
     ]
    }
   ],
   "source": [
    "b.eating('fruit')"
   ]
  },
  {
   "cell_type": "markdown",
   "metadata": {},
   "source": [
    "## POLYMORPHISM\n",
    "\n",
    "- The ability of different classes to respond to the same message (method call) in different ways. This allows for code to work with objects of various classes as if they were objects of a common superclass."
   ]
  },
  {
   "cell_type": "code",
   "execution_count": 33,
   "metadata": {},
   "outputs": [],
   "source": [
    "b = Animal()"
   ]
  },
  {
   "cell_type": "code",
   "execution_count": 34,
   "metadata": {},
   "outputs": [
    {
     "name": "stdout",
     "output_type": "stream",
     "text": [
      "Animal is eating Meat\n"
     ]
    }
   ],
   "source": [
    "b.eating('Meat')"
   ]
  },
  {
   "cell_type": "markdown",
   "metadata": {},
   "source": [
    "## Encapsulation"
   ]
  },
  {
   "cell_type": "code",
   "execution_count": 1,
   "metadata": {},
   "outputs": [],
   "source": [
    "class saylani():\n",
    "    def __init__(self):\n",
    "        self.helpline = \"786\" #public\n",
    "        self._batch = \"Python\" # protected\n",
    "        self.__result = \"70%\" #private"
   ]
  },
  {
   "cell_type": "code",
   "execution_count": 2,
   "metadata": {},
   "outputs": [
    {
     "data": {
      "text/plain": [
       "'786'"
      ]
     },
     "execution_count": 2,
     "metadata": {},
     "output_type": "execute_result"
    }
   ],
   "source": [
    "s = saylani()\n",
    "s.helpline # public"
   ]
  },
  {
   "cell_type": "code",
   "execution_count": 3,
   "metadata": {},
   "outputs": [
    {
     "data": {
      "text/plain": [
       "'123'"
      ]
     },
     "execution_count": 3,
     "metadata": {},
     "output_type": "execute_result"
    }
   ],
   "source": [
    "s.helpline = '123' # trying to update\n",
    "s.helpline"
   ]
  },
  {
   "cell_type": "code",
   "execution_count": 4,
   "metadata": {},
   "outputs": [
    {
     "data": {
      "text/plain": [
       "'Python'"
      ]
     },
     "execution_count": 4,
     "metadata": {},
     "output_type": "execute_result"
    }
   ],
   "source": [
    "s._batch #protect"
   ]
  },
  {
   "cell_type": "code",
   "execution_count": 5,
   "metadata": {},
   "outputs": [
    {
     "data": {
      "text/plain": [
       "'123'"
      ]
     },
     "execution_count": 5,
     "metadata": {},
     "output_type": "execute_result"
    }
   ],
   "source": [
    "s._batch = '123' # trying to update\n",
    "s._batch"
   ]
  },
  {
   "cell_type": "code",
   "execution_count": 6,
   "metadata": {},
   "outputs": [
    {
     "ename": "AttributeError",
     "evalue": "'saylani' object has no attribute '__result'",
     "output_type": "error",
     "traceback": [
      "\u001b[1;31m---------------------------------------------------------------------------\u001b[0m",
      "\u001b[1;31mAttributeError\u001b[0m                            Traceback (most recent call last)",
      "Cell \u001b[1;32mIn[6], line 1\u001b[0m\n\u001b[1;32m----> 1\u001b[0m s\u001b[38;5;241m.\u001b[39m__result\n",
      "\u001b[1;31mAttributeError\u001b[0m: 'saylani' object has no attribute '__result'"
     ]
    }
   ],
   "source": [
    "s.__result #private"
   ]
  },
  {
   "cell_type": "code",
   "execution_count": 7,
   "metadata": {},
   "outputs": [
    {
     "data": {
      "text/plain": [
       "'100%'"
      ]
     },
     "execution_count": 7,
     "metadata": {},
     "output_type": "execute_result"
    }
   ],
   "source": [
    "s._saylani__result = \"100%\"\n",
    "s._saylani__result"
   ]
  },
  {
   "cell_type": "markdown",
   "metadata": {},
   "source": [
    "### TASK:\n",
    "\n",
    "- use encapsulation for class i:e., StudentLogin():\n",
    "- initialize two static but private attributes i:e., __user_name, __password\n",
    "- create one private methods i:e., name __dbconectivity() that will validate you username & password. if both are valid then should print \"valid user\" otherwise \"not valid\"\n",
    "- create one public methods i:e., update password & it should update your private password"
   ]
  },
  {
   "cell_type": "code",
   "execution_count": 11,
   "metadata": {},
   "outputs": [],
   "source": [
    "class Studentlogin():\n",
    "    \n",
    "    def __init__(self):\n",
    "        self.__user_name = \"M Anas\"\n",
    "        self.__password = \"Pak@123\"\n",
    "    def __dbconectivity(self, user, password):\n",
    "        if self.__user_name == user and self.__password == password:\n",
    "            print(\"Valid\")\n",
    "        else: \n",
    "            print(\"Invalid\")\n",
    "    def update_password(self):\n",
    "        update_pass = input(\"Enter the new password : \")\n",
    "        self._Studentlogin__password = update_pass\n",
    "        return f\"Your updated password{self._Studentlogin__password}\"\n",
    "         \n",
    "    def login(self, expect_name, expect_pass):\n",
    "        return self.__dbconectivity(expect_name, expect_pass)"
   ]
  },
  {
   "cell_type": "code",
   "execution_count": 12,
   "metadata": {},
   "outputs": [
    {
     "name": "stdout",
     "output_type": "stream",
     "text": [
      "Valid\n"
     ]
    }
   ],
   "source": [
    "expect_name = input(\"User name: \")\n",
    "expect_pass = input(\"Password : \")\n",
    "user = Studentlogin()\n",
    "user.login(expect_name, expect_pass)"
   ]
  }
 ],
 "metadata": {
  "kernelspec": {
   "display_name": "base",
   "language": "python",
   "name": "python3"
  },
  "language_info": {
   "codemirror_mode": {
    "name": "ipython",
    "version": 3
   },
   "file_extension": ".py",
   "mimetype": "text/x-python",
   "name": "python",
   "nbconvert_exporter": "python",
   "pygments_lexer": "ipython3",
   "version": "3.11.7"
  }
 },
 "nbformat": 4,
 "nbformat_minor": 2
}
