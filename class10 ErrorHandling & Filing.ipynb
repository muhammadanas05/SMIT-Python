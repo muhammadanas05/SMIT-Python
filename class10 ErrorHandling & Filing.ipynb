{
 "cells": [
  {
   "cell_type": "markdown",
   "metadata": {},
   "source": [
    "## Error Handling "
   ]
  },
  {
   "cell_type": "code",
   "execution_count": 8,
   "metadata": {},
   "outputs": [
    {
     "name": "stdout",
     "output_type": "stream",
     "text": [
      "Trying\n",
      "Error Occured\n"
     ]
    }
   ],
   "source": [
    "x = int(input())\n",
    "try:\n",
    "    print('Trying')\n",
    "    print(x + 'Hello')  # This will raise a TypeError\n",
    "    print('Executing')  # This line will not execute because of the error above\n",
    "except:\n",
    "    print(\"Error Occured\")"
   ]
  },
  {
   "cell_type": "code",
   "execution_count": 9,
   "metadata": {},
   "outputs": [
    {
     "name": "stdout",
     "output_type": "stream",
     "text": [
      "unsupported operand type(s) for +: 'int' and 'str'\n"
     ]
    }
   ],
   "source": [
    "try:\n",
    "    x = int(input())\n",
    "    print(x + 'Hello') # Concatenate str with integer\n",
    "    print(10/0) # Zero Division Error\n",
    "except Exception as e:\n",
    "    print(e)"
   ]
  },
  {
   "cell_type": "code",
   "execution_count": 10,
   "metadata": {},
   "outputs": [
    {
     "name": "stdout",
     "output_type": "stream",
     "text": [
      "can only concatenate str (not \"int\") to str\n",
      "Code Executes\n"
     ]
    }
   ],
   "source": [
    "# Final Block\n",
    "try:\n",
    "    result = 'The answer is : ' + 42\n",
    "except TypeError as e :\n",
    "    print(e)\n",
    "finally:\n",
    "    print('Code Executes')\n",
    "    #  It will always run"
   ]
  },
  {
   "cell_type": "code",
   "execution_count": 14,
   "metadata": {},
   "outputs": [
    {
     "name": "stdout",
     "output_type": "stream",
     "text": [
      "ValueError : invalid literal for int() with base 10: 'abc'\n"
     ]
    }
   ],
   "source": [
    "try:\n",
    "    number = int('abc')\n",
    "except ValueError as e:\n",
    "    print(f\"ValueError : {e}\")"
   ]
  },
  {
   "cell_type": "code",
   "execution_count": 16,
   "metadata": {},
   "outputs": [
    {
     "name": "stdout",
     "output_type": "stream",
     "text": [
      "KeyError :  'address'\n"
     ]
    }
   ],
   "source": [
    "try:\n",
    "    my_dict = {'name':'Mehdi','age':64}\n",
    "    my_dict['address']\n",
    "except KeyError as e:\n",
    "    print(\"KeyError : \",e)"
   ]
  },
  {
   "cell_type": "code",
   "execution_count": 17,
   "metadata": {},
   "outputs": [
    {
     "name": "stdout",
     "output_type": "stream",
     "text": [
      "name 'mtname' is not defined\n"
     ]
    }
   ],
   "source": [
    "try:\n",
    "    print(mtname)\n",
    "except NameError as e :\n",
    "    print(e)"
   ]
  },
  {
   "cell_type": "code",
   "execution_count": 18,
   "metadata": {},
   "outputs": [
    {
     "name": "stdout",
     "output_type": "stream",
     "text": [
      "Can't divide by zero\n"
     ]
    }
   ],
   "source": [
    "try:\n",
    "    result = 10 / 0\n",
    "except ZeroDivisionError :\n",
    "    print(\"Can't divide by zero\")\n",
    "else:\n",
    "    print(\"Division Succesful {e}\".format(e = result))"
   ]
  },
  {
   "cell_type": "code",
   "execution_count": 20,
   "metadata": {},
   "outputs": [
    {
     "name": "stdout",
     "output_type": "stream",
     "text": [
      "It's a error : invalid literal for int() with base 10: 'w'\n"
     ]
    }
   ],
   "source": [
    "try:\n",
    "    \n",
    "    a = int(input(\"Enter a number = \"))\n",
    "    b = int(input(\"Enter a number = \"))\n",
    "    \n",
    "    result = a/b\n",
    "except ValueError as e :\n",
    "    print(f\"It's a error : {e}\")\n",
    "\n",
    "else:\n",
    "    print(\"Result is Succesful\")\n",
    "    print(result)"
   ]
  },
  {
   "cell_type": "code",
   "execution_count": 25,
   "metadata": {},
   "outputs": [
    {
     "name": "stdout",
     "output_type": "stream",
     "text": [
      "10.0\n",
      "It runs Everytime \n"
     ]
    }
   ],
   "source": [
    "try:\n",
    "    a = int(input())\n",
    "    a = float(a)\n",
    "except ValueError as e:\n",
    "    print(f\"ValueError : {e}\")\n",
    "else:\n",
    "    print(a)\n",
    "finally:\n",
    "    print(\"It runs Everytime \")"
   ]
  },
  {
   "cell_type": "markdown",
   "metadata": {},
   "source": [
    "## Raising user defined Errors "
   ]
  },
  {
   "cell_type": "code",
   "execution_count": 32,
   "metadata": {},
   "outputs": [
    {
     "name": "stdout",
     "output_type": "stream",
     "text": [
      "Age is acceptable\n"
     ]
    }
   ],
   "source": [
    "def check_age(age):\n",
    "    if age < 15:\n",
    "        raise ValueError(\"Age must be greater than 15 \")\n",
    "    else:\n",
    "        print(\"Age is acceptable\")\n",
    "\n",
    "try :\n",
    "    check_age(15)\n",
    "except ValueError as e:\n",
    "    print(f\"Error : {e}\")"
   ]
  },
  {
   "cell_type": "markdown",
   "metadata": {},
   "source": [
    "## File Handling "
   ]
  },
  {
   "cell_type": "code",
   "execution_count": 37,
   "metadata": {},
   "outputs": [
    {
     "name": "stdout",
     "output_type": "stream",
     "text": [
      "division by zero\n"
     ]
    }
   ],
   "source": [
    "def divide(a,b):\n",
    "    result = a/b\n",
    "    if  b == 0:\n",
    "        raise ZeroDivisionError(\"Division by zero\")\n",
    "    print(result)\n",
    "\n",
    "try:\n",
    "    divide(10,0)\n",
    "except ZeroDivisionError as e :\n",
    "    print(e)"
   ]
  },
  {
   "cell_type": "code",
   "execution_count": 42,
   "metadata": {},
   "outputs": [
    {
     "data": {
      "text/plain": [
       "5"
      ]
     },
     "execution_count": 42,
     "metadata": {},
     "output_type": "execute_result"
    }
   ],
   "source": [
    "my_file = open(\"File.txt\",mode='w')\n",
    "my_file.write(\"Hello\")"
   ]
  },
  {
   "cell_type": "code",
   "execution_count": 43,
   "metadata": {},
   "outputs": [],
   "source": [
    "with open(\"index.txt\",mode='w') as f :\n",
    "    f.write(\"Hello \")"
   ]
  },
  {
   "cell_type": "code",
   "execution_count": 44,
   "metadata": {},
   "outputs": [
    {
     "name": "stdout",
     "output_type": "stream",
     "text": [
      "Hello \n"
     ]
    }
   ],
   "source": [
    "with open(\"index.txt\",mode='r') as f :\n",
    "    contents = f.read()\n",
    "    print(contents)"
   ]
  },
  {
   "cell_type": "code",
   "execution_count": 50,
   "metadata": {},
   "outputs": [
    {
     "name": "stdout",
     "output_type": "stream",
     "text": [
      "Hello \n"
     ]
    }
   ],
   "source": [
    "file = open(\"index.txt\",mode='r')\n",
    "content = file.read()\n",
    "print(content)"
   ]
  },
  {
   "cell_type": "code",
   "execution_count": 52,
   "metadata": {},
   "outputs": [
    {
     "name": "stdout",
     "output_type": "stream",
     "text": [
      "['Hello ']\n"
     ]
    }
   ],
   "source": [
    "file.seek(0)\n",
    "print(file.readlines())"
   ]
  },
  {
   "cell_type": "code",
   "execution_count": 53,
   "metadata": {},
   "outputs": [],
   "source": [
    "file.close()"
   ]
  },
  {
   "cell_type": "code",
   "execution_count": 58,
   "metadata": {},
   "outputs": [
    {
     "name": "stdout",
     "output_type": "stream",
     "text": [
      "['Hello ']\n"
     ]
    }
   ],
   "source": [
    "file = open(\"index.txt\",mode='r')\n",
    "content = file.readlines()\n",
    "print(content)\n",
    "# while content:\n",
    "    # print(content.strip())\n",
    "    # print(content.readlines())\n",
    "    # pass\n",
    "file.close()"
   ]
  },
  {
   "cell_type": "code",
   "execution_count": 60,
   "metadata": {},
   "outputs": [
    {
     "name": "stdout",
     "output_type": "stream",
     "text": [
      "24\n"
     ]
    }
   ],
   "source": [
    "file = open('python.txt',mode='w')\n",
    "content = 'SMIT'\n",
    "print(file.write(content))\n",
    "file.close()"
   ]
  },
  {
   "cell_type": "code",
   "execution_count": 62,
   "metadata": {},
   "outputs": [
    {
     "name": "stdout",
     "output_type": "stream",
     "text": [
      "25\n"
     ]
    }
   ],
   "source": [
    "file = open('python.txt',mode='a')\n",
    "content = '\\nSaylani Mass IT Training'\n",
    "print(file.write(content))\n",
    "file.close()"
   ]
  },
  {
   "cell_type": "code",
   "execution_count": 65,
   "metadata": {},
   "outputs": [],
   "source": [
    "new_content = ['\\nHello world','Mehdi']\n",
    "file = open(\"python.txt\",mode='a')\n",
    "content = file.writelines(new_content)\n",
    "file.close()"
   ]
  },
  {
   "cell_type": "markdown",
   "metadata": {},
   "source": [
    "## Exception from file handling "
   ]
  },
  {
   "cell_type": "code",
   "execution_count": 66,
   "metadata": {},
   "outputs": [
    {
     "name": "stdout",
     "output_type": "stream",
     "text": [
      "[Errno 2] No such file or directory: 'index.html'\n"
     ]
    }
   ],
   "source": [
    "try :\n",
    "    with open(\"index.html\",mode='r') as f :\n",
    "        print(f.read())\n",
    "except FileNotFoundError as e :\n",
    "    print(e)"
   ]
  },
  {
   "cell_type": "code",
   "execution_count": 68,
   "metadata": {},
   "outputs": [
    {
     "name": "stdout",
     "output_type": "stream",
     "text": [
      "not writable\n"
     ]
    }
   ],
   "source": [
    "try :\n",
    "    with open(\"python.txt\",mode='r') as f:\n",
    "        f.write(\"Hello\")\n",
    "except Exception as e :\n",
    "    print(e)"
   ]
  },
  {
   "cell_type": "code",
   "execution_count": 1,
   "metadata": {},
   "outputs": [],
   "source": [
    "import csv \n",
    "with open('output.csv','w',newline='') as f :\n",
    "    writer = csv.writer(f)\n",
    "    writer.writerow(['Name','Age','Occupation'])\n",
    "    writer.writerow(['Muhammad Anas',21,'Data Analyst'])\n",
    "    writer.writerow(['Ali Bilal',22,'MLOPS'])"
   ]
  }
 ],
 "metadata": {
  "kernelspec": {
   "display_name": "base",
   "language": "python",
   "name": "python3"
  },
  "language_info": {
   "codemirror_mode": {
    "name": "ipython",
    "version": 3
   },
   "file_extension": ".py",
   "mimetype": "text/x-python",
   "name": "python",
   "nbconvert_exporter": "python",
   "pygments_lexer": "ipython3",
   "version": "3.11.7"
  }
 },
 "nbformat": 4,
 "nbformat_minor": 2
}
