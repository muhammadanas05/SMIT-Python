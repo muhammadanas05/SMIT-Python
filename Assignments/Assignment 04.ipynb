{
 "cells": [
  {
   "cell_type": "markdown",
   "metadata": {},
   "source": [
    "# List Assignment"
   ]
  },
  {
   "cell_type": "markdown",
   "metadata": {},
   "source": [
    "## 1. Write a program that accepts a list from user and print the alternate element of list."
   ]
  },
  {
   "cell_type": "code",
   "execution_count": 2,
   "metadata": {},
   "outputs": [
    {
     "name": "stdout",
     "output_type": "stream",
     "text": [
      "I Python "
     ]
    }
   ],
   "source": [
    "user_list = input(\"Enter elements separated by space: \").split()\n",
    "\n",
    "for i in range(0, len(user_list), 2):\n",
    "    print(user_list[i], end=\" \")"
   ]
  },
  {
   "cell_type": "markdown",
   "metadata": {},
   "source": [
    "## 2. Write a program that accepts a list from user. Your program should reverse the content of list and display it. Do not use reverse() method. "
   ]
  },
  {
   "cell_type": "code",
   "execution_count": 3,
   "metadata": {},
   "outputs": [
    {
     "name": "stdout",
     "output_type": "stream",
     "text": [
      "Reversed List: ['Pakistan', 'in', 'live', 'I']\n"
     ]
    }
   ],
   "source": [
    "user_list = input(\"Enter elements separated by space: \").split()\n",
    "\n",
    "reversed_list = []\n",
    "for i in range(len(user_list) - 1, -1, -1):\n",
    "    reversed_list.append(user_list[i])\n",
    "\n",
    "print(\"Reversed List:\", reversed_list)"
   ]
  },
  {
   "cell_type": "markdown",
   "metadata": {},
   "source": [
    "## 3. Find and display the largest number of a list without using built-in function max(). Your program should ask the user to input values in list from keyboard. "
   ]
  },
  {
   "cell_type": "code",
   "execution_count": 7,
   "metadata": {},
   "outputs": [
    {
     "name": "stdout",
     "output_type": "stream",
     "text": [
      "Largest number is: 999\n"
     ]
    }
   ],
   "source": [
    "user_list = list(map(int, input(\"Enter numbers separated by space: \").split()))\n",
    "\n",
    "largest = user_list[0]\n",
    "for num in user_list:\n",
    "    if num > largest:\n",
    "        largest = num\n",
    "\n",
    "print(\"Largest number is:\", largest)"
   ]
  },
  {
   "cell_type": "markdown",
   "metadata": {},
   "source": [
    "## 4. Write a program that rotates the element of a list so that the element at the first index moves to the second index, the element in the second index moves to the third index, etc., and the element in the last index moves to the first index."
   ]
  },
  {
   "cell_type": "code",
   "execution_count": 8,
   "metadata": {},
   "outputs": [
    {
     "name": "stdout",
     "output_type": "stream",
     "text": [
      "Rotated List: ['karachi', 'lahore', 'india', 'pakistan']\n"
     ]
    }
   ],
   "source": [
    "user_list = input(\"Enter elements separated by space: \").split()\n",
    "\n",
    "rotated_list = user_list[1:] + [user_list[0]]\n",
    "\n",
    "print(\"Rotated List:\", rotated_list)"
   ]
  },
  {
   "cell_type": "markdown",
   "metadata": {},
   "source": [
    "## 5. Write a program that input a string and ask user to delete a given word from a string. "
   ]
  },
  {
   "cell_type": "code",
   "execution_count": 9,
   "metadata": {},
   "outputs": [
    {
     "name": "stdout",
     "output_type": "stream",
     "text": [
      "New String: Krchi\n"
     ]
    }
   ],
   "source": [
    "user_string = input(\"Enter a string: \")\n",
    "word_to_delete = input(\"Enter the word to delete: \")\n",
    "\n",
    "new_string = user_string.replace(word_to_delete, \"\").strip()\n",
    "\n",
    "print(\"New String:\", new_string)"
   ]
  },
  {
   "cell_type": "markdown",
   "metadata": {},
   "source": [
    "## 6. Write a program that reads a string from the user containing a date in the form mm/dd/yyyy. It should print the date in the form March 12, 2021. "
   ]
  },
  {
   "cell_type": "code",
   "execution_count": 10,
   "metadata": {},
   "outputs": [
    {
     "name": "stdout",
     "output_type": "stream",
     "text": [
      "July 5, 2002\n"
     ]
    }
   ],
   "source": [
    "date_input = input(\"Enter date (mm/dd/yyyy): \")\n",
    "\n",
    "month, day, year = date_input.split('/')\n",
    "\n",
    "months = [\"January\", \"February\", \"March\", \"April\", \"May\", \"June\",\n",
    "          \"July\", \"August\", \"September\", \"October\", \"November\", \"December\"]\n",
    "month_name = months[int(month) - 1]\n",
    "\n",
    "print(f\"{month_name} {int(day)}, {year}\")"
   ]
  },
  {
   "cell_type": "markdown",
   "metadata": {},
   "source": [
    "## 7. Write a program with a function that accepts a string from keyboard and create a new string after converting character of each word capitalized. For instance, if the sentence is \"stop and smell the roses.\" the output should be \"Stop And Smell The Roses\" "
   ]
  },
  {
   "cell_type": "code",
   "execution_count": 11,
   "metadata": {},
   "outputs": [
    {
     "name": "stdout",
     "output_type": "stream",
     "text": [
      "Capitalized String: I Love My Country\n"
     ]
    }
   ],
   "source": [
    "def capitalize_words(user_string):\n",
    "    words = user_string.split()\n",
    "    capitalized_words = [word.capitalize() for word in words]\n",
    "    return \" \".join(capitalized_words)\n",
    "\n",
    "user_string = input(\"Enter a sentence: \")\n",
    "\n",
    "print(\"Capitalized String:\", capitalize_words(user_string))"
   ]
  },
  {
   "cell_type": "markdown",
   "metadata": {},
   "source": [
    "## 8. Find the sum of each row of matrix of size m x n."
   ]
  },
  {
   "cell_type": "code",
   "execution_count": 13,
   "metadata": {},
   "outputs": [
    {
     "name": "stdout",
     "output_type": "stream",
     "text": [
      "Sum of row 1 = 1\n",
      "Sum of row 2 = 2\n",
      "Sum of row 3 = 1\n"
     ]
    }
   ],
   "source": [
    "rows = int(input(\"Enter number of rows: \"))\n",
    "cols = int(input(\"Enter number of columns: \"))\n",
    "\n",
    "matrix = []\n",
    "for i in range(rows):\n",
    "    row = list(map(int, input(f\"Enter row {i+1} elements separated by space: \").split()))\n",
    "    matrix.append(row)\n",
    "\n",
    "for i in range(rows):\n",
    "    row_sum = sum(matrix[i])\n",
    "    print(f\"Sum of row {i+1} = {row_sum}\")"
   ]
  },
  {
   "cell_type": "markdown",
   "metadata": {},
   "source": [
    "## 9. Write a program to add two matrices of size n x m."
   ]
  },
  {
   "cell_type": "code",
   "execution_count": 16,
   "metadata": {},
   "outputs": [
    {
     "name": "stdout",
     "output_type": "stream",
     "text": [
      "Enter elements for the first matrix:\n",
      "Enter elements for the second matrix:\n",
      "Result Matrix after Addition:\n",
      "[3, 4]\n",
      "[2, 4]\n"
     ]
    }
   ],
   "source": [
    "rows = int(input(\"Enter number of rows: \"))\n",
    "cols = int(input(\"Enter number of columns: \"))\n",
    "\n",
    "matrix1 = []\n",
    "print(\"Enter elements for the first matrix:\")\n",
    "for i in range(rows):\n",
    "    row = list(map(int, input(f\"Row {i+1}: \").split()))\n",
    "    matrix1.append(row)\n",
    "\n",
    "matrix2 = []\n",
    "print(\"Enter elements for the second matrix:\")\n",
    "for i in range(rows):\n",
    "    row = list(map(int, input(f\"Row {i+1}: \").split()))\n",
    "    matrix2.append(row)\n",
    "\n",
    "result_matrix = []\n",
    "for i in range(rows):\n",
    "    result_row = []\n",
    "    for j in range(cols):\n",
    "        result_row.append(matrix1[i][j] + matrix2[i][j])\n",
    "    result_matrix.append(result_row)\n",
    "\n",
    "print(\"Result Matrix after Addition:\")\n",
    "for row in result_matrix:\n",
    "    print(row)"
   ]
  },
  {
   "cell_type": "markdown",
   "metadata": {},
   "source": [
    "## 10. Write a program to multiply two matrices"
   ]
  },
  {
   "cell_type": "code",
   "execution_count": 18,
   "metadata": {},
   "outputs": [
    {
     "name": "stdout",
     "output_type": "stream",
     "text": [
      "Enter elements for the first matrix:\n",
      "Enter elements for the second matrix:\n",
      "Result Matrix after Multiplication:\n",
      "[7, 7]\n",
      "[14, 14]\n"
     ]
    }
   ],
   "source": [
    "rows1 = int(input(\"Enter number of rows in first matrix: \"))\n",
    "cols1 = int(input(\"Enter number of columns in first matrix: \"))\n",
    "rows2 = cols1\n",
    "cols2 = int(input(\"Enter number of columns in second matrix: \"))\n",
    "\n",
    "matrix1 = []\n",
    "print(\"Enter elements for the first matrix:\")\n",
    "for i in range(rows1):\n",
    "    row = list(map(int, input(f\"Row {i+1}: \").split()))\n",
    "    matrix1.append(row)\n",
    "\n",
    "matrix2 = []\n",
    "print(\"Enter elements for the second matrix:\")\n",
    "for i in range(rows2):\n",
    "    row = list(map(int, input(f\"Row {i+1}: \").split()))\n",
    "    matrix2.append(row)\n",
    "\n",
    "result_matrix = []\n",
    "for i in range(rows1):\n",
    "    result_row = []\n",
    "    for j in range(cols2):\n",
    "        sum_product = 0\n",
    "        for k in range(cols1):\n",
    "            sum_product += matrix1[i][k] * matrix2[k][j]\n",
    "        result_row.append(sum_product)\n",
    "    result_matrix.append(result_row)\n",
    "\n",
    "print(\"Result Matrix after Multiplication:\")\n",
    "for row in result_matrix:\n",
    "    print(row)"
   ]
  }
 ],
 "metadata": {
  "kernelspec": {
   "display_name": "base",
   "language": "python",
   "name": "python3"
  },
  "language_info": {
   "codemirror_mode": {
    "name": "ipython",
    "version": 3
   },
   "file_extension": ".py",
   "mimetype": "text/x-python",
   "name": "python",
   "nbconvert_exporter": "python",
   "pygments_lexer": "ipython3",
   "version": "3.11.7"
  }
 },
 "nbformat": 4,
 "nbformat_minor": 2
}
