{
  "cells": [
    {
      "cell_type": "markdown",
      "metadata": {
        "id": "XLFr4w_7OFN7"
      },
      "source": [
        "1. Write a Python program to create a class representing a Circle. Include methods to calculate its area and perimeter."
      ]
    },
    {
      "cell_type": "code",
      "execution_count": 1,
      "metadata": {},
      "outputs": [
        {
          "name": "stdout",
          "output_type": "stream",
          "text": [
            "Area: 78.55\n",
            "Perimeter: 31.419999999999998\n"
          ]
        }
      ],
      "source": [
        "pi = 3.142\n",
        "\n",
        "class Circle:\n",
        "    def __init__(self, radius):\n",
        "        self.radius = radius\n",
        "\n",
        "    def area(self):\n",
        "        return pi * self.radius ** 2\n",
        "\n",
        "    def perimeter(self):\n",
        "        return 2 * pi * self.radius\n",
        "\n",
        "# Sample:\n",
        "my_circle = Circle(5)\n",
        "print(\"Area:\", my_circle.area())\n",
        "print(\"Perimeter:\", my_circle.perimeter())"
      ]
    },
    {
      "cell_type": "markdown",
      "metadata": {
        "id": "CBPk4mH4OTCO"
      },
      "source": [
        "2. Write a Python program to create a person class. Include attributes like name, country and date of birth. Implement a method to determine the person's age.\n"
      ]
    },
    {
      "cell_type": "code",
      "execution_count": 3,
      "metadata": {},
      "outputs": [
        {
          "name": "stdout",
          "output_type": "stream",
          "text": [
            "Muhammad Anas's age is 21 years.\n"
          ]
        }
      ],
      "source": [
        "class Person:\n",
        "    def __init__(self, name, country):\n",
        "        self.name = name\n",
        "        self.country = country\n",
        "\n",
        "    def calculate_age(self, birth_year, birth_month, birth_day, current_year, current_month, current_day):\n",
        "        age = current_year - birth_year\n",
        "\n",
        "        if (current_month, current_day) < (birth_month, birth_day):\n",
        "            age -= 1\n",
        "\n",
        "        return age\n",
        "\n",
        "# Sample:\n",
        "name = input(\"Enter name: \")\n",
        "country = input(\"Enter country: \")\n",
        "\n",
        "person = Person(name, country)\n",
        "\n",
        "birth_year = int(input(\"Enter birth year: \"))\n",
        "birth_month = int(input(\"Enter birth month: \"))\n",
        "birth_day = int(input(\"Enter birth day: \"))\n",
        "\n",
        "current_year = int(input(\"Enter current year: \"))\n",
        "current_month = int(input(\"Enter current month: \"))\n",
        "current_day = int(input(\"Enter current day: \"))\n",
        "\n",
        "age = person.calculate_age(birth_year, birth_month, birth_day, current_year, current_month, current_day)\n",
        "print(f\"{person.name}'s age is {age} years.\")"
      ]
    },
    {
      "cell_type": "markdown",
      "metadata": {},
      "source": [
        "3. Write a Python program to create a calculator class. Include methods for basic arithmetic operations."
      ]
    },
    {
      "cell_type": "code",
      "execution_count": 2,
      "metadata": {},
      "outputs": [
        {
          "name": "stdout",
          "output_type": "stream",
          "text": [
            "Addition: 9\n",
            "Subtraction: 4\n",
            "Multiplication: 10\n",
            "Division: 5.0\n"
          ]
        }
      ],
      "source": [
        "class Calculator:\n",
        "    def add(self, a, b):\n",
        "        return a + b\n",
        "\n",
        "    def subtract(self, a, b):\n",
        "        return a - b\n",
        "\n",
        "    def multiply(self, a, b):\n",
        "        return a * b\n",
        "\n",
        "    def divide(self, a, b):\n",
        "        if b != 0:\n",
        "            return a / b\n",
        "        else:\n",
        "            return \"Error! Division by zero.\"\n",
        "\n",
        "# Sample:\n",
        "calc = Calculator()\n",
        "print(\"Addition:\", calc.add(4, 5))\n",
        "print(\"Subtraction:\", calc.subtract(9, 5))\n",
        "print(\"Multiplication:\", calc.multiply(2, 5))\n",
        "print(\"Division:\", calc.divide(25, 5))"
      ]
    }
  ],
  "metadata": {
    "colab": {
      "provenance": []
    },
    "kernelspec": {
      "display_name": "Python 3",
      "name": "python3"
    },
    "language_info": {
      "codemirror_mode": {
        "name": "ipython",
        "version": 3
      },
      "file_extension": ".py",
      "mimetype": "text/x-python",
      "name": "python",
      "nbconvert_exporter": "python",
      "pygments_lexer": "ipython3",
      "version": "3.11.7"
    }
  },
  "nbformat": 4,
  "nbformat_minor": 0
}
