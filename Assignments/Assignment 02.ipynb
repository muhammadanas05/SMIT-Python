{
 "cells": [
  {
   "cell_type": "markdown",
   "metadata": {},
   "source": [
    "# Grocery Shopping System"
   ]
  },
  {
   "cell_type": "code",
   "execution_count": 1,
   "metadata": {},
   "outputs": [],
   "source": [
    "def display_menu():\n",
    "    print(\"\\nGrocery Shopping List Manager\")\n",
    "    print(\"1. Add item\")\n",
    "    print(\"2. Remove item\")\n",
    "    print(\"3. Display current list\")\n",
    "    print(\"4. Exit\")"
   ]
  },
  {
   "cell_type": "code",
   "execution_count": 2,
   "metadata": {},
   "outputs": [],
   "source": [
    "def add_item(shopping_list):\n",
    "    item = input(\"Enter the item to add: \").strip()\n",
    "    if item in shopping_list:\n",
    "        print(f\"{item} is already in list.\")\n",
    "    else:\n",
    "        quantity = int(input(\"Quantity: \").strip())\n",
    "        shopping_list[item] = quantity\n",
    "        print(f\"{item}  added.\")"
   ]
  },
  {
   "cell_type": "code",
   "execution_count": 3,
   "metadata": {},
   "outputs": [],
   "source": [
    "def remove_item(shopping_list):\n",
    "    item = input(\"Enter the item rmove: \").strip()\n",
    "    if item in shopping_list:\n",
    "        del shopping_list[item]\n",
    "        print(f\"{item} removed from the list.\")\n",
    "    else:\n",
    "        print(f\"{item} is not in the list.\")"
   ]
  },
  {
   "cell_type": "code",
   "execution_count": 4,
   "metadata": {},
   "outputs": [],
   "source": [
    "def display_list(shopping_list):\n",
    "    if not shopping_list:\n",
    "        print(\"The shoping list is emty.\")\n",
    "    else:\n",
    "        print(\"\\nCurrent shoping list:\")\n",
    "        for item, quantity in shopping_list.items():\n",
    "            print(f\"{item}: {quantity}\")"
   ]
  },
  {
   "cell_type": "code",
   "execution_count": 5,
   "metadata": {},
   "outputs": [],
   "source": [
    "def main():\n",
    "    shopping_list = {}\n",
    "    while True:\n",
    "        display_menu()\n",
    "        choice = input(\"Enter your chooice (1-4): \").strip()\n",
    "        \n",
    "        if choice == \"1\":\n",
    "            add_item(shopping_list)\n",
    "        elif choice == \"2\":\n",
    "            remove_item(shopping_list)\n",
    "        elif choice == \"3\":\n",
    "            display_list(shopping_list)\n",
    "        elif choice == \"4\":\n",
    "            print(\"Exiting the program.\")\n",
    "            break\n",
    "        else:\n",
    "            print(\"Wrong choice. Please try again.\")"
   ]
  },
  {
   "cell_type": "code",
   "execution_count": 6,
   "metadata": {},
   "outputs": [
    {
     "name": "stdout",
     "output_type": "stream",
     "text": [
      "\n",
      "Grocery Shopping List Manager\n",
      "1. Add item\n",
      "2. Remove item\n",
      "3. Display current list\n",
      "4. Exit\n",
      "banana  added.\n",
      "\n",
      "Grocery Shopping List Manager\n",
      "1. Add item\n",
      "2. Remove item\n",
      "3. Display current list\n",
      "4. Exit\n",
      "apple  added.\n",
      "\n",
      "Grocery Shopping List Manager\n",
      "1. Add item\n",
      "2. Remove item\n",
      "3. Display current list\n",
      "4. Exit\n",
      "kiwi  added.\n",
      "\n",
      "Grocery Shopping List Manager\n",
      "1. Add item\n",
      "2. Remove item\n",
      "3. Display current list\n",
      "4. Exit\n",
      "\n",
      "Current shoping list:\n",
      "banana: 12\n",
      "apple: 2\n",
      "kiwi: 1\n",
      "\n",
      "Grocery Shopping List Manager\n",
      "1. Add item\n",
      "2. Remove item\n",
      "3. Display current list\n",
      "4. Exit\n",
      "apple removed from the list.\n",
      "\n",
      "Grocery Shopping List Manager\n",
      "1. Add item\n",
      "2. Remove item\n",
      "3. Display current list\n",
      "4. Exit\n",
      "\n",
      "Current shoping list:\n",
      "banana: 12\n",
      "kiwi: 1\n",
      "\n",
      "Grocery Shopping List Manager\n",
      "1. Add item\n",
      "2. Remove item\n",
      "3. Display current list\n",
      "4. Exit\n",
      "Exiting the program.\n"
     ]
    }
   ],
   "source": [
    "main()"
   ]
  },
  {
   "cell_type": "markdown",
   "metadata": {},
   "source": [
    "# Student Grades"
   ]
  },
  {
   "cell_type": "code",
   "execution_count": 7,
   "metadata": {},
   "outputs": [],
   "source": [
    "student_grades = {\n",
    "    \"Amna\": 85,\n",
    "    \"Anas\": 90,\n",
    "    \"Bilal\": 78,\n",
    "    \"Ali\": 88,\n",
    "    \"Kami\": 92\n",
    "}"
   ]
  },
  {
   "cell_type": "code",
   "execution_count": 8,
   "metadata": {},
   "outputs": [],
   "source": [
    "total_G = sum(student_grades.values())\n",
    "num_of_std = len(student_grades)\n",
    "average_grade = total_G / num_of_std"
   ]
  },
  {
   "cell_type": "code",
   "execution_count": 9,
   "metadata": {},
   "outputs": [
    {
     "name": "stdout",
     "output_type": "stream",
     "text": [
      "The average grade is: 86.6\n"
     ]
    }
   ],
   "source": [
    "print(f\"The average grade is: {average_grade}\")"
   ]
  },
  {
   "cell_type": "markdown",
   "metadata": {},
   "source": [
    "# Word Frequency Counter"
   ]
  },
  {
   "cell_type": "code",
   "execution_count": 10,
   "metadata": {},
   "outputs": [],
   "source": [
    "word_list = [\"apple\", \"banana\", \"apple\", \"orange\", \"banana\", \"grape\", \"apple\"]"
   ]
  },
  {
   "cell_type": "code",
   "execution_count": 11,
   "metadata": {},
   "outputs": [],
   "source": [
    "def c_w_f(word_list):\n",
    "    word_count = {}\n",
    "    for W in word_list:\n",
    "        if W in word_count:\n",
    "            word_count[W] += 1\n",
    "        else:\n",
    "            word_count[W] = 1\n",
    "    return word_count"
   ]
  },
  {
   "cell_type": "code",
   "execution_count": 12,
   "metadata": {},
   "outputs": [],
   "source": [
    "frequencies = c_w_f(word_list)"
   ]
  },
  {
   "cell_type": "code",
   "execution_count": 13,
   "metadata": {},
   "outputs": [
    {
     "name": "stdout",
     "output_type": "stream",
     "text": [
      "apple: 3\n",
      "banana: 2\n",
      "orange: 1\n",
      "grape: 1\n"
     ]
    }
   ],
   "source": [
    "for word, count in frequencies.items():\n",
    "    print(f\"{word}: {count}\")"
   ]
  },
  {
   "cell_type": "markdown",
   "metadata": {},
   "source": [
    "# Password Strength Checker"
   ]
  },
  {
   "cell_type": "code",
   "execution_count": 14,
   "metadata": {},
   "outputs": [],
   "source": [
    "passwords = [\n",
    "    \"lol123\",\n",
    "    \"pakistan\",\n",
    "    \"012345678\",\n",
    "    \"Pakistan1234\"\n",
    "]"
   ]
  },
  {
   "cell_type": "code",
   "execution_count": 15,
   "metadata": {},
   "outputs": [],
   "source": [
    "def c_p_s(password):\n",
    "    \n",
    "    min_len = 8\n",
    "    have_digit = False\n",
    "    have_letter = False\n",
    "    \n",
    "    if len(password) >= min_len:\n",
    "        for p in password:\n",
    "            if p.isdigit():\n",
    "                have_digit = True\n",
    "            if p.isalpha():\n",
    "                have_letter = True\n",
    "    else:\n",
    "        return \"Password should be at least 8 characters long.\"\n",
    "    \n",
    "    if not have_digit:\n",
    "        return \"Password should contain at least one digit.\"\n",
    "    \n",
    "    if not have_letter:\n",
    "        return \"Password should contain at least one letter.\"\n",
    "    \n",
    "    return \"Password is strong.\""
   ]
  },
  {
   "cell_type": "code",
   "execution_count": 16,
   "metadata": {},
   "outputs": [
    {
     "name": "stdout",
     "output_type": "stream",
     "text": [
      "Password: lol123 - Password should be at least 8 characters long.\n",
      "Password: pakistan - Password should contain at least one digit.\n",
      "Password: 012345678 - Password should contain at least one letter.\n",
      "Password: Pakistan1234 - Password is strong.\n"
     ]
    }
   ],
   "source": [
    "for password in passwords:\n",
    "    print(f\"Password: {password} - {c_p_s(password)}\")"
   ]
  },
  {
   "cell_type": "markdown",
   "metadata": {},
   "source": [
    "# Voting System (Annual Employee Recognation Awards)"
   ]
  },
  {
   "cell_type": "code",
   "execution_count": 17,
   "metadata": {},
   "outputs": [],
   "source": [
    "def disp_candidate(candidates):\n",
    "    print(\"Nominees for the awards are:\")\n",
    "    for i, candidate in enumerate(candidates, start=1):\n",
    "        print(f\"{i}. {candidate}\")"
   ]
  },
  {
   "cell_type": "code",
   "execution_count": 18,
   "metadata": {},
   "outputs": [],
   "source": [
    "def vote_In(num_voters, candidates):\n",
    "    votes = [0] * len(candidates)\n",
    "    for i in range(num_voters):\n",
    "        valid_vote = False\n",
    "        while not valid_vote:\n",
    "            vote = input(f\"Voter {i+1}, please enter the Num of ur fav candidate (1-{len(candidates)}): \")\n",
    "            if vote.isdigit():\n",
    "                vote = int(vote)\n",
    "                if 1 <= vote <= len(candidates):\n",
    "                    votes[vote-1] += 1\n",
    "                    print(f\"Vote recorded for {candidates[vote-1]}\")\n",
    "                    valid_vote = True\n",
    "                else:\n",
    "                    print(\"Invalid input. Please enter a number within the valid range.\")\n",
    "            else:\n",
    "                print(\"Invalid input. Please enter a valid number.\")\n",
    "    return votes"
   ]
  },
  {
   "cell_type": "code",
   "execution_count": 19,
   "metadata": {},
   "outputs": [],
   "source": [
    "def disp_result(candidates, votes):\n",
    "    print(\"\\nVoting Results:\")\n",
    "    for i in range(len(candidates)):\n",
    "        print(f\"{candidates[i]}: {votes[i]} votes\")"
   ]
  },
  {
   "cell_type": "code",
   "execution_count": 20,
   "metadata": {},
   "outputs": [],
   "source": [
    "def main():\n",
    "    candidates = [\"Candidate A\", \"Candidate B\", \"Candidate C\"]\n",
    "    disp_candidate(candidates)\n",
    "\n",
    "    num_voters_valid = False\n",
    "    while not num_voters_valid:\n",
    "        num_voters_input = input(\"Enter the number of voters participating: \")\n",
    "        if num_voters_input.isdigit():\n",
    "            num_voters = int(num_voters_input)\n",
    "            if num_voters > 0:\n",
    "                num_voters_valid = True\n",
    "            else:\n",
    "                print(\"Number of voters must be greater than zero.\")\n",
    "        else:\n",
    "            print(\"Invalid input. Please enter a valid number.\")\n",
    "\n",
    "    votes = vote_In(num_voters, candidates)\n",
    "    disp_result(candidates, votes)  "
   ]
  },
  {
   "cell_type": "code",
   "execution_count": 21,
   "metadata": {},
   "outputs": [
    {
     "name": "stdout",
     "output_type": "stream",
     "text": [
      "Nominees for the awards are:\n",
      "1. Candidate A\n",
      "2. Candidate B\n",
      "3. Candidate C\n",
      "Vote recorded for Candidate A\n",
      "Vote recorded for Candidate B\n",
      "Vote recorded for Candidate A\n",
      "\n",
      "Voting Results:\n",
      "Candidate A: 2 votes\n",
      "Candidate B: 1 votes\n",
      "Candidate C: 0 votes\n"
     ]
    }
   ],
   "source": [
    "main()"
   ]
  }
 ],
 "metadata": {
  "kernelspec": {
   "display_name": "base",
   "language": "python",
   "name": "python3"
  },
  "language_info": {
   "codemirror_mode": {
    "name": "ipython",
    "version": 3
   },
   "file_extension": ".py",
   "mimetype": "text/x-python",
   "name": "python",
   "nbconvert_exporter": "python",
   "pygments_lexer": "ipython3",
   "version": "3.11.7"
  }
 },
 "nbformat": 4,
 "nbformat_minor": 2
}
