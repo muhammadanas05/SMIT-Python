{
 "cells": [
  {
   "cell_type": "code",
   "execution_count": 3,
   "id": "68a40b9b-329c-41e3-8996-778e2ae9014f",
   "metadata": {},
   "outputs": [
    {
     "name": "stdout",
     "output_type": "stream",
     "text": [
      "Saylani Class 2\n"
     ]
    }
   ],
   "source": [
    "# commment in python starts with #\n",
    "# print is builten function, it take arguments/paramter to print on console\n",
    "print(\"Saylani Class 2\") "
   ]
  },
  {
   "cell_type": "markdown",
   "id": "5f3b029e-94ac-4f8b-9682-f3f4c3d622e3",
   "metadata": {},
   "source": [
    "### Variable\n",
    "- String\n",
    "- Integer\n",
    "- Float\n",
    "- Boolean"
   ]
  },
  {
   "cell_type": "code",
   "execution_count": 15,
   "id": "3177b63f-874e-4ddd-bd92-7f257fd15123",
   "metadata": {},
   "outputs": [
    {
     "name": "stdout",
     "output_type": "stream",
     "text": [
      "Hassan\n",
      "<class 'str'>\n"
     ]
    },
    {
     "data": {
      "text/plain": [
       "2278452876912"
      ]
     },
     "execution_count": 15,
     "metadata": {},
     "output_type": "execute_result"
    }
   ],
   "source": [
    "name = \"Hassan\" # String\n",
    "print(name)\n",
    "print(type(name))\n",
    "id(name) # last line in jupyter print by default"
   ]
  },
  {
   "cell_type": "code",
   "execution_count": 16,
   "id": "f7d40243-f45c-4993-931c-0205be923dd6",
   "metadata": {},
   "outputs": [
    {
     "name": "stdout",
     "output_type": "stream",
     "text": [
      "Khan\n",
      "<class 'str'>\n"
     ]
    },
    {
     "data": {
      "text/plain": [
       "2278456336560"
      ]
     },
     "execution_count": 16,
     "metadata": {},
     "output_type": "execute_result"
    }
   ],
   "source": [
    "last_name = 'Khan' # used single quotations\n",
    "print(last_name)\n",
    "print(type(last_name))\n",
    "id(last_name)"
   ]
  },
  {
   "cell_type": "code",
   "execution_count": 18,
   "id": "7af92cf3-15de-4729-870a-cc1ed65768eb",
   "metadata": {},
   "outputs": [
    {
     "name": "stdout",
     "output_type": "stream",
     "text": [
      "Qasim said, \"Today is OFF\"\n"
     ]
    }
   ],
   "source": [
    "print(\"Qasim said, \\\"Today is OFF\\\"\")"
   ]
  },
  {
   "cell_type": "code",
   "execution_count": 19,
   "id": "3dc3a2c0-b9f7-467a-b30e-2441a4e5e483",
   "metadata": {},
   "outputs": [],
   "source": [
    "# multt-line lines string, syntax ''' paragraph '''\n",
    "poem = '''Humpty Dumpty sate on a wall,\n",
    "Humpti Dumpti had a great fall;\n",
    "Threescore men and threescore more,\n",
    "Cannot place Humpty dumpty as he was before.'''"
   ]
  },
  {
   "cell_type": "code",
   "execution_count": 20,
   "id": "2e15054f-c9cb-4680-953e-ba8e10925af4",
   "metadata": {},
   "outputs": [
    {
     "name": "stdout",
     "output_type": "stream",
     "text": [
      "Humpty Dumpty sate on a wall,\n",
      "Humpti Dumpti had a great fall;\n",
      "Threescore men and threescore more,\n",
      "Cannot place Humpty dumpty as he was before.\n"
     ]
    }
   ],
   "source": [
    "print(poem)"
   ]
  },
  {
   "cell_type": "code",
   "execution_count": 21,
   "id": "fc22cb2c-96c5-4f13-8604-a3a815d2523d",
   "metadata": {},
   "outputs": [
    {
     "name": "stdout",
     "output_type": "stream",
     "text": [
      "15\n",
      "<class 'int'>\n"
     ]
    },
    {
     "data": {
      "text/plain": [
       "140709666538728"
      ]
     },
     "execution_count": 21,
     "metadata": {},
     "output_type": "execute_result"
    }
   ],
   "source": [
    "age = 15 # integer\n",
    "print(age)\n",
    "print(type(age))\n",
    "id(age)"
   ]
  },
  {
   "cell_type": "code",
   "execution_count": 31,
   "id": "822a4ae3-ab30-44d8-8596-5da1ad43b24b",
   "metadata": {},
   "outputs": [
    {
     "name": "stdout",
     "output_type": "stream",
     "text": [
      "40.545677\n",
      "<class 'float'>\n"
     ]
    },
    {
     "data": {
      "text/plain": [
       "2278470584016"
      ]
     },
     "execution_count": 31,
     "metadata": {},
     "output_type": "execute_result"
    }
   ],
   "source": [
    "weight = 40.545677 # float\n",
    "print(weight)\n",
    "print(type(weight))\n",
    "id(weight)"
   ]
  },
  {
   "cell_type": "code",
   "execution_count": 23,
   "id": "075f9044-a7ae-4196-8a7f-35d56921c3b0",
   "metadata": {},
   "outputs": [
    {
     "name": "stdout",
     "output_type": "stream",
     "text": [
      "True\n",
      "<class 'bool'>\n"
     ]
    },
    {
     "data": {
      "text/plain": [
       "140709665065536"
      ]
     },
     "execution_count": 23,
     "metadata": {},
     "output_type": "execute_result"
    }
   ],
   "source": [
    "is_present = True # boolean\n",
    "print(is_present)\n",
    "print(type(is_present))\n",
    "id(is_present)"
   ]
  },
  {
   "cell_type": "markdown",
   "id": "37a5eba9-857f-4631-abc1-7cb223c1272a",
   "metadata": {},
   "source": [
    "### Operator"
   ]
  },
  {
   "cell_type": "code",
   "execution_count": 32,
   "id": "6c672362-f841-4eda-9657-57740b2e0f64",
   "metadata": {},
   "outputs": [
    {
     "data": {
      "text/plain": [
       "4"
      ]
     },
     "execution_count": 32,
     "metadata": {},
     "output_type": "execute_result"
    }
   ],
   "source": [
    "2+2"
   ]
  },
  {
   "cell_type": "code",
   "execution_count": 33,
   "id": "78582be2-e668-4154-a89f-df49299e620d",
   "metadata": {},
   "outputs": [
    {
     "data": {
      "text/plain": [
       "2"
      ]
     },
     "execution_count": 33,
     "metadata": {},
     "output_type": "execute_result"
    }
   ],
   "source": [
    "4-2"
   ]
  },
  {
   "cell_type": "code",
   "execution_count": 34,
   "id": "5e2be2d6-d82d-41f2-b1c3-8a12821dd4ef",
   "metadata": {},
   "outputs": [
    {
     "data": {
      "text/plain": [
       "4"
      ]
     },
     "execution_count": 34,
     "metadata": {},
     "output_type": "execute_result"
    }
   ],
   "source": [
    "2*2"
   ]
  },
  {
   "cell_type": "code",
   "execution_count": 37,
   "id": "077170a2-e47e-424f-a7ff-88fc66e65148",
   "metadata": {},
   "outputs": [
    {
     "data": {
      "text/plain": [
       "2.0"
      ]
     },
     "execution_count": 37,
     "metadata": {},
     "output_type": "execute_result"
    }
   ],
   "source": [
    "6/3 # by default / gives us answer in float"
   ]
  },
  {
   "cell_type": "code",
   "execution_count": 38,
   "id": "af10c5c4-3649-4237-b03e-30e6c6207e67",
   "metadata": {},
   "outputs": [
    {
     "data": {
      "text/plain": [
       "9"
      ]
     },
     "execution_count": 38,
     "metadata": {},
     "output_type": "execute_result"
    }
   ],
   "source": [
    "3**2 # power"
   ]
  },
  {
   "cell_type": "code",
   "execution_count": 45,
   "id": "0e76134e-aaec-4a7d-8413-8c32b19c5a68",
   "metadata": {},
   "outputs": [
    {
     "data": {
      "text/plain": [
       "2"
      ]
     },
     "execution_count": 45,
     "metadata": {},
     "output_type": "execute_result"
    }
   ],
   "source": [
    "5//2 # floor --> round-off ot lower point"
   ]
  },
  {
   "cell_type": "code",
   "execution_count": 44,
   "id": "149b665c-f28d-4d00-ad0e-0d899768100a",
   "metadata": {},
   "outputs": [
    {
     "name": "stdout",
     "output_type": "stream",
     "text": [
      " result is. 3\n"
     ]
    }
   ],
   "source": [
    " # ciel --> round--off to upper point\n",
    "import math \n",
    "x =5/2\n",
    "y = (math.ceil(x))\n",
    "print(\" result is:\",y)"
   ]
  },
  {
   "attachments": {
    "c6ade6e7-84e6-4697-94d2-43d2871efa9a.png": {
     "image/png": "[encoded data removed]"
    }
   },
   "cell_type": "markdown",
   "id": "1c7f4014-5830-4d57-aecf-aa9539c66824",
   "metadata": {},
   "source": [
    "### Keywords\n",
    "\n",
    "![image.png](attachment:c6ade6e7-84e6-4697-94d2-43d2871efa9a.png)"
   ]
  },
  {
   "cell_type": "code",
   "execution_count": null,
   "id": "237fbf63-c525-4024-bf47-2f791fd54537",
   "metadata": {},
   "outputs": [],
   "source": [
    "var_True = \"Qasim\""
   ]
  },
  {
   "cell_type": "markdown",
   "id": "7231b0dd-982e-46ae-8315-849227a511ea",
   "metadata": {},
   "source": [
    "### Some more Operaters"
   ]
  },
  {
   "cell_type": "code",
   "execution_count": 46,
   "id": "a37973f4-07ac-4cfb-a655-5337faf199e5",
   "metadata": {},
   "outputs": [
    {
     "data": {
      "text/plain": [
       "1"
      ]
     },
     "execution_count": 46,
     "metadata": {},
     "output_type": "execute_result"
    }
   ],
   "source": [
    "9%4 # \"%\" is modulus operator & it return remainder "
   ]
  },
  {
   "cell_type": "code",
   "execution_count": 48,
   "id": "c0f33e22-a08d-4d77-99b4-b297171a92c9",
   "metadata": {},
   "outputs": [],
   "source": [
    "age +=5"
   ]
  },
  {
   "cell_type": "code",
   "execution_count": 50,
   "id": "ce58cee1-85d1-4122-94e6-1808195027a3",
   "metadata": {},
   "outputs": [],
   "source": [
    "age = age + 5"
   ]
  },
  {
   "cell_type": "code",
   "execution_count": 51,
   "id": "dd92cc48-71a3-4fd7-a602-26327c358895",
   "metadata": {},
   "outputs": [
    {
     "data": {
      "text/plain": [
       "25"
      ]
     },
     "execution_count": 51,
     "metadata": {},
     "output_type": "execute_result"
    }
   ],
   "source": [
    "age"
   ]
  },
  {
   "cell_type": "code",
   "execution_count": 52,
   "id": "26e4443c-f848-4469-9898-54447863f82d",
   "metadata": {},
   "outputs": [],
   "source": [
    "age -=5"
   ]
  },
  {
   "cell_type": "code",
   "execution_count": 54,
   "id": "405027d6-9fbc-4932-9cbc-82a1bdcd9d44",
   "metadata": {},
   "outputs": [],
   "source": [
    "age /=2"
   ]
  },
  {
   "cell_type": "code",
   "execution_count": 56,
   "id": "f363e93e-1126-4090-b5d0-affb77cdba07",
   "metadata": {},
   "outputs": [
    {
     "data": {
      "text/plain": [
       "10.0"
      ]
     },
     "execution_count": 56,
     "metadata": {},
     "output_type": "execute_result"
    }
   ],
   "source": [
    "age"
   ]
  },
  {
   "cell_type": "code",
   "execution_count": 57,
   "id": "2c8b7734-1b5b-42c9-ba7f-c6ee10b27034",
   "metadata": {},
   "outputs": [],
   "source": [
    "age *=2"
   ]
  },
  {
   "cell_type": "code",
   "execution_count": 58,
   "id": "6a9b0bbb-8f4f-4f65-baca-ac43febb925f",
   "metadata": {},
   "outputs": [
    {
     "data": {
      "text/plain": [
       "20.0"
      ]
     },
     "execution_count": 58,
     "metadata": {},
     "output_type": "execute_result"
    }
   ],
   "source": [
    "age"
   ]
  },
  {
   "cell_type": "markdown",
   "id": "dff3f8ec-8008-4ec8-b39f-234c7eb6dcaa",
   "metadata": {},
   "source": [
    "### Expersions\n",
    "\n",
    "= 1+3-2*4 --> Applied BODMAS rule <br>\n",
    "= 1+3-8<br>\n",
    "= 4-8<br>\n",
    "= -4<br>"
   ]
  },
  {
   "cell_type": "code",
   "execution_count": 59,
   "id": "0f7b00e2-d5fa-4f8b-beb3-448b78ca9f1a",
   "metadata": {},
   "outputs": [
    {
     "data": {
      "text/plain": [
       "-4"
      ]
     },
     "execution_count": 59,
     "metadata": {},
     "output_type": "execute_result"
    }
   ],
   "source": [
    "1+3-2*4"
   ]
  },
  {
   "cell_type": "markdown",
   "id": "6398c6a0-0efd-4222-9660-692528340d1c",
   "metadata": {},
   "source": [
    "1+(3-2)*4 --> Applied BODMAS"
   ]
  },
  {
   "cell_type": "code",
   "execution_count": 60,
   "id": "e609f86e-2951-4f33-a424-30564fec85ca",
   "metadata": {},
   "outputs": [
    {
     "data": {
      "text/plain": [
       "5"
      ]
     },
     "execution_count": 60,
     "metadata": {},
     "output_type": "execute_result"
    }
   ],
   "source": [
    "1+(3-2)*4"
   ]
  },
  {
   "cell_type": "markdown",
   "id": "2894ffd1-4ba0-406b-b43e-851711cd2211",
   "metadata": {},
   "source": [
    "1+(3-2)+2**4 # power will solve always at first place"
   ]
  },
  {
   "cell_type": "code",
   "execution_count": 61,
   "id": "3b03e83a-3c26-4cee-a95c-e8a9885a36d8",
   "metadata": {},
   "outputs": [
    {
     "data": {
      "text/plain": [
       "18"
      ]
     },
     "execution_count": 61,
     "metadata": {},
     "output_type": "execute_result"
    }
   ],
   "source": [
    "1+(3-2)+2**4"
   ]
  },
  {
   "cell_type": "markdown",
   "id": "ee70454f-fff6-4b62-a03f-47b10a7b8f0d",
   "metadata": {},
   "source": [
    "((2 * 4) * 4) + 2 # first inner then outer bracket"
   ]
  },
  {
   "cell_type": "code",
   "execution_count": 62,
   "id": "a5e92b05-0c41-4026-a461-bf4e3d8cc625",
   "metadata": {},
   "outputs": [
    {
     "data": {
      "text/plain": [
       "34"
      ]
     },
     "execution_count": 62,
     "metadata": {},
     "output_type": "execute_result"
    }
   ],
   "source": [
    "((2 * 4) * 4) + 2"
   ]
  },
  {
   "cell_type": "markdown",
   "id": "a021d6eb-67d9-4a78-af01-3acbd339f777",
   "metadata": {},
   "source": [
    "### Concatenation"
   ]
  },
  {
   "cell_type": "code",
   "execution_count": 64,
   "id": "37218adc-dd17-4e8b-bc34-466c2ebe7f1f",
   "metadata": {},
   "outputs": [
    {
     "data": {
      "text/plain": [
       "'Qasim Hassan'"
      ]
     },
     "execution_count": 64,
     "metadata": {},
     "output_type": "execute_result"
    }
   ],
   "source": [
    "\"Qasim \"+\"Hassan\""
   ]
  },
  {
   "cell_type": "code",
   "execution_count": 65,
   "id": "0a45ba42-b089-4a91-81da-3f4d60297331",
   "metadata": {},
   "outputs": [
    {
     "data": {
      "text/plain": [
       "('Qasim ', 'Hassan')"
      ]
     },
     "execution_count": 65,
     "metadata": {},
     "output_type": "execute_result"
    }
   ],
   "source": [
    "\"Qasim \",\"Hassan\" # will convert it into Tuple"
   ]
  },
  {
   "cell_type": "code",
   "execution_count": 66,
   "id": "2e3e6899-512f-4635-9a2f-7bdbe7929382",
   "metadata": {},
   "outputs": [
    {
     "name": "stdout",
     "output_type": "stream",
     "text": [
      "Qasim  Hassan\n"
     ]
    }
   ],
   "source": [
    "print(\"Qasim \",\"Hassan\")"
   ]
  },
  {
   "cell_type": "code",
   "execution_count": 71,
   "id": "90b6ebaa-22e2-4d8a-87af-34d6d040edf4",
   "metadata": {},
   "outputs": [
    {
     "data": {
      "text/plain": [
       "('Hassan', 20.0, 40.545677, True)"
      ]
     },
     "execution_count": 71,
     "metadata": {},
     "output_type": "execute_result"
    }
   ],
   "source": [
    "name, age, weight, is_present # agian it converted into Tuples"
   ]
  },
  {
   "cell_type": "code",
   "execution_count": 75,
   "id": "8aeb61b0-0625-4309-9db9-fc7edfc9104a",
   "metadata": {},
   "outputs": [
    {
     "name": "stdout",
     "output_type": "stream",
     "text": [
      "Student Name : Hassan\n",
      "Student Age: 20.0\n",
      "Student Weight: 40.545677\n",
      "Student is Present:  True\n"
     ]
    }
   ],
   "source": [
    "#Method :1 Concatenation with , [, will do by defualt type casting]\n",
    "print(\"Student Name :\", name)\n",
    "print(\"Student Age:\", age)\n",
    "print(\"Student Weight:\", weight)\n",
    "print(\"Student is Present: \", is_present)"
   ]
  },
  {
   "cell_type": "code",
   "execution_count": 80,
   "id": "79ea7539-b8fb-4455-988a-cb147093f8e8",
   "metadata": {},
   "outputs": [
    {
     "name": "stdout",
     "output_type": "stream",
     "text": [
      "Student Name : Hassan\n",
      "Student Age:20.0\n",
      "Student Weight:40.545677\n",
      "Student is Present: True\n"
     ]
    }
   ],
   "source": [
    "#Method :1 Concatenation with + [+ requires type casting]\n",
    "print(\"Student Name : \"+ name)\n",
    "print(\"Student Age:\"+ str(age))\n",
    "print(\"Student Weight:\"+ str(weight))\n",
    "print(\"Student is Present: \"+ str(is_present))"
   ]
  },
  {
   "cell_type": "code",
   "execution_count": 82,
   "id": "083f49ea-11a7-4478-8f5b-1a495ccaeb2b",
   "metadata": {},
   "outputs": [
    {
     "ename": "TypeError",
     "evalue": "can only concatenate str (not \"int\") to str",
     "output_type": "error",
     "traceback": [
      "\u001b[1;31m---------------------------------------------------------------------------\u001b[0m",
      "\u001b[1;31mTypeError\u001b[0m                                 Traceback (most recent call last)",
      "Cell \u001b[1;32mIn[82], line 1\u001b[0m\n\u001b[1;32m----> 1\u001b[0m \u001b[38;5;28mprint\u001b[39m(\u001b[38;5;124m\"\u001b[39m\u001b[38;5;124mThe sum of 2 plus 2 is \u001b[39m\u001b[38;5;124m\"\u001b[39m \u001b[38;5;241m+\u001b[39m \u001b[38;5;241m4\u001b[39m)\n",
      "\u001b[1;31mTypeError\u001b[0m: can only concatenate str (not \"int\") to str"
     ]
    }
   ],
   "source": [
    "print(\"The sum of 2 plus 2 is \" + 4)"
   ]
  },
  {
   "cell_type": "code",
   "execution_count": 83,
   "id": "a6d9db0b-ff1c-4474-9d08-99379dbe8407",
   "metadata": {},
   "outputs": [
    {
     "name": "stdout",
     "output_type": "stream",
     "text": [
      "The sum of 2 plus 2 is 4\n"
     ]
    }
   ],
   "source": [
    "print(\"The sum of 2 plus 2 is \" + \"4\")"
   ]
  },
  {
   "cell_type": "code",
   "execution_count": 79,
   "id": "c782b511-c594-4f1e-9e29-6d9912c39c18",
   "metadata": {},
   "outputs": [
    {
     "name": "stdout",
     "output_type": "stream",
     "text": [
      "Student Name : Hassan\n",
      "Student Age: 20.0\n",
      "Student Weight: 40.545677\n",
      "Student is Present:  True\n"
     ]
    }
   ],
   "source": [
    "#Method :1 Concatenation with f --> formatting\n",
    "print(f\"Student Name : {name}\")\n",
    "print(f\"Student Age: {age}\")\n",
    "print(f\"Student Weight: {weight}\")\n",
    "print(f\"Student is Present:  {is_present}\")"
   ]
  },
  {
   "cell_type": "code",
   "execution_count": 81,
   "id": "062f0fb8-72ce-4d69-97aa-4d56be6f72ad",
   "metadata": {},
   "outputs": [
    {
     "name": "stdout",
     "output_type": "stream",
     "text": [
      "Hello, World!\n"
     ]
    }
   ],
   "source": [
    "greeting = \"Hello\"\n",
    "separators = \", \"\n",
    "addressee = \"World\"\n",
    "punc = \"!\"\n",
    "whole_greeting = greeting + separators + addressee + punc\n",
    "print(whole_greeting)"
   ]
  },
  {
   "cell_type": "code",
   "execution_count": null,
   "id": "5a5cee41-b72f-4877-998c-cf942af88558",
   "metadata": {},
   "outputs": [],
   "source": []
  }
 ],
 "metadata": {
  "kernelspec": {
   "display_name": "Python 3 (ipykernel)",
   "language": "python",
   "name": "python3"
  },
  "language_info": {
   "codemirror_mode": {
    "name": "ipython",
    "version": 3
   },
   "file_extension": ".py",
   "mimetype": "text/x-python",
   "name": "python",
   "nbconvert_exporter": "python",
   "pygments_lexer": "ipython3",
   "version": "3.11.7"
  }
 },
 "nbformat": 4,
 "nbformat_minor": 5
}
