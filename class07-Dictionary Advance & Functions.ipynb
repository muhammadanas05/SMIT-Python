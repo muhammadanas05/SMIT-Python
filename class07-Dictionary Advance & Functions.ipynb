{
 "cells": [
  {
   "cell_type": "code",
   "execution_count": 1,
   "metadata": {},
   "outputs": [],
   "source": [
    "Personal_Bio = {\"first name\": \"Anas\",\n",
    "            \"last name\": \"Muhammad\",\n",
    "            \"address\": \"Karachi\"}"
   ]
  },
  {
   "cell_type": "code",
   "execution_count": 2,
   "metadata": {},
   "outputs": [],
   "source": [
    "customers = [\n",
    "    {'first name': 'John', 'last name': 'Doe', 'address': '123 Maple Street'},\n",
    "    {'first name': 'Jane', 'last name': 'Smith', 'address': '456 Oak Avenue'},\n",
    "    {'first name': 'Emily', 'last name': 'Johnson', 'address': '789 Pine Road'}\n",
    "]"
   ]
  },
  {
   "cell_type": "code",
   "execution_count": 3,
   "metadata": {},
   "outputs": [
    {
     "name": "stdout",
     "output_type": "stream",
     "text": [
      "123 Maple Street\n",
      "456 Oak Avenue\n",
      "789 Pine Road\n"
     ]
    }
   ],
   "source": [
    "for i in customers:\n",
    "    print(i['address'])"
   ]
  },
  {
   "cell_type": "code",
   "execution_count": 5,
   "metadata": {},
   "outputs": [
    {
     "name": "stdout",
     "output_type": "stream",
     "text": [
      "{'first name': 'John', 'last name': 'Doe', 'address': '123 Maple Street'}\n",
      "{'first name': 'Jane', 'last name': 'Smith', 'address': '456 Oak Avenue'}\n",
      "{'first name': 'Emily', 'last name': 'Johnson', 'address': '789 Pine Road'}\n",
      "{'first name': 'Anas', 'last name': 'Muhammad', 'address': 'Karachi'}\n"
     ]
    }
   ],
   "source": [
    "customers.append(Personal_Bio)\n",
    "\n",
    "# Print the updated list of dictionaries\n",
    "for customer in customers:\n",
    "    print(customer)"
   ]
  },
  {
   "cell_type": "code",
   "execution_count": 6,
   "metadata": {},
   "outputs": [
    {
     "data": {
      "text/plain": [
       "4"
      ]
     },
     "execution_count": 6,
     "metadata": {},
     "output_type": "execute_result"
    }
   ],
   "source": [
    "len(customers)"
   ]
  },
  {
   "cell_type": "markdown",
   "metadata": {},
   "source": [
    "### Dictionary of Dictionary"
   ]
  },
  {
   "cell_type": "code",
   "execution_count": 7,
   "metadata": {},
   "outputs": [],
   "source": [
    "customers_Dict = {1: {'first name': 'John', 'last name': 'Doe', 'address': '123 Maple Street'},\n",
    "2 : {'first name': 'Jane', 'last name': 'Smith', 'address': '456 Oak Avenue'},\n",
    "3 : {'first name': 'Emily', 'last name': 'Johnson', 'address': '789 Pine Road'},\n",
    "4: {'first name': 'Anas', 'last name': 'Muhammad', 'address': 'Karachi'}\n",
    "}"
   ]
  },
  {
   "cell_type": "code",
   "execution_count": 8,
   "metadata": {},
   "outputs": [
    {
     "data": {
      "text/plain": [
       "{1: {'first name': 'John', 'last name': 'Doe', 'address': '123 Maple Street'},\n",
       " 2: {'first name': 'Jane', 'last name': 'Smith', 'address': '456 Oak Avenue'},\n",
       " 3: {'first name': 'Emily',\n",
       "  'last name': 'Johnson',\n",
       "  'address': '789 Pine Road'},\n",
       " 4: {'first name': 'Anas', 'last name': 'Muhammad', 'address': 'Karachi'}}"
      ]
     },
     "execution_count": 8,
     "metadata": {},
     "output_type": "execute_result"
    }
   ],
   "source": [
    "customers_Dict"
   ]
  },
  {
   "cell_type": "markdown",
   "metadata": {},
   "source": [
    "# Extract and print the addresses"
   ]
  },
  {
   "cell_type": "code",
   "execution_count": 9,
   "metadata": {},
   "outputs": [
    {
     "name": "stdout",
     "output_type": "stream",
     "text": [
      "123 Maple Street\n",
      "456 Oak Avenue\n",
      "789 Pine Road\n",
      "Karachi\n"
     ]
    }
   ],
   "source": [
    "for key, value in customers_Dict.items():\n",
    "    print(value['address'])"
   ]
  },
  {
   "cell_type": "code",
   "execution_count": 14,
   "metadata": {},
   "outputs": [],
   "source": [
    "# for i in range(len(customers_Dict)):\n",
    "#     print(customers_Dict[i][\"address\"]) "
   ]
  },
  {
   "cell_type": "code",
   "execution_count": 35,
   "metadata": {},
   "outputs": [
    {
     "name": "stdout",
     "output_type": "stream",
     "text": [
      "Key is: 1\n",
      "value is: {'first name': 'John', 'last name': 'Doe', 'address': '123 Maple Street'}\n",
      "ADDRESS of 1 is 123 Maple Street\n",
      "-----------\n",
      "Key is: 2\n",
      "value is: {'first name': 'Jane', 'last name': 'Smith', 'address': '456 Oak Avenue'}\n",
      "ADDRESS of 2 is 456 Oak Avenue\n",
      "-----------\n",
      "Key is: 3\n",
      "value is: {'first name': 'Emily', 'last name': 'Johnson', 'address': '789 Pine Road'}\n",
      "ADDRESS of 3 is 789 Pine Road\n",
      "-----------\n",
      "Key is: 4\n",
      "value is: {'first name': 'Anas', 'last name': 'Muhammad', 'address': 'Karachi'}\n",
      "ADDRESS of 4 is Karachi\n",
      "-----------\n"
     ]
    }
   ],
   "source": [
    "for key, value in customers_Dict.items():\n",
    "    print(f\"Key is: {key}\")\n",
    "    print(f\"value is: {value}\")\n",
    "\n",
    "    # Extracting address using KEY\n",
    "\n",
    "    print(f\"ADDRESS of {key} is {customers_Dict[key]['address']}\")\n",
    "    print(\"-----------\")\n",
    "\n",
    "\n",
    "# Exacting address using values\n",
    "\n"
   ]
  },
  {
   "cell_type": "code",
   "execution_count": 22,
   "metadata": {},
   "outputs": [
    {
     "name": "stdout",
     "output_type": "stream",
     "text": [
      "{'courses': {'course1': {'name': 'Data Science', 'duration': '1 months', 'fee': '3000 PKR'}, 'course2': {'name': 'Python', 'duration': '3 months', 'fee': '2000 PKR'}, 'course3': {'name': 'Machine Learning', 'duration': '2 months', 'fee': '2500 PKR'}}}\n"
     ]
    }
   ],
   "source": [
    "SMIT = {\n",
    "    'courses': {\n",
    "        'course1': {\n",
    "            'name': 'Data Science',\n",
    "            'duration': '1 months',\n",
    "            'fee': '3000 PKR'\n",
    "        },\n",
    "        'course2': {\n",
    "            'name': 'Python',\n",
    "            'duration': '3 months',\n",
    "            'fee': '2000 PKR'\n",
    "        },\n",
    "        'course3': {\n",
    "            'name': 'Machine Learning',\n",
    "            'duration': '2 months',\n",
    "            'fee': '2500 PKR'\n",
    "        }\n",
    "    }\n",
    "}\n",
    "\n",
    "\n",
    "\n",
    "print(SMIT)\n"
   ]
  },
  {
   "cell_type": "code",
   "execution_count": 26,
   "metadata": {},
   "outputs": [
    {
     "name": "stdout",
     "output_type": "stream",
     "text": [
      "Data Science\n",
      "Python\n",
      "Machine Learning\n",
      "\n",
      "------\n",
      "Data Science\n",
      "Python\n",
      "Machine Learning\n",
      "\n",
      "---------\n",
      "Data Science\n",
      "Python\n",
      "Machine Learning\n"
     ]
    }
   ],
   "source": [
    "# Using .keys() to get course names\n",
    "for course_key in SMIT['courses'].keys():\n",
    "    print(SMIT['courses'][course_key]['name'])\n",
    "\n",
    "# Using .values() to get course names\n",
    "print(\"\\n------\")\n",
    "for course_value in SMIT['courses'].values():\n",
    "    print(course_value['name'])\n",
    "\n",
    "# Using .items() to get course names\n",
    "print(\"\\n---------\")\n",
    "for course_key, course_value in SMIT['courses'].items():\n",
    "    print(course_value['name'])"
   ]
  },
  {
   "cell_type": "code",
   "execution_count": 37,
   "metadata": {},
   "outputs": [
    {
     "name": "stdout",
     "output_type": "stream",
     "text": [
      "{'python': {'timing': 'MWF', 'instructor': 'Ayan', 'Data Science': {'timing': 'IT', 'instructor': 'Dawood'}}}\n"
     ]
    }
   ],
   "source": [
    "Saylani = {\n",
    "    \"python\" : {\n",
    "        \"timing\" : \"MWF\",\n",
    "        \"instructor\" : \"Ayan\",\n",
    "     \"Data Science\": {\n",
    "         \"timing\" : \"IT\",\n",
    "        \"instructor\" : \"Dawood\"\n",
    "     }   \n",
    "    }\n",
    "\n",
    "}\n",
    "\n",
    "print(Saylani)"
   ]
  },
  {
   "cell_type": "code",
   "execution_count": 28,
   "metadata": {},
   "outputs": [
    {
     "name": "stdout",
     "output_type": "stream",
     "text": [
      "Course: python\n",
      "Instructor: Ayan\n"
     ]
    }
   ],
   "source": [
    "for course, details in Saylani.items():\n",
    "    # Print the course name and instructor\n",
    "    print(f\"Course: {course}\")\n",
    "    print(f\"Instructor: {details['instructor']}\")"
   ]
  },
  {
   "cell_type": "code",
   "execution_count": 38,
   "metadata": {},
   "outputs": [
    {
     "name": "stdout",
     "output_type": "stream",
     "text": [
      "Key is: python\n",
      "Value is: {'timing': 'MWF', 'instructor': 'Ayan', 'Data Science': {'timing': 'IT', 'instructor': 'Dawood'}}\n",
      "through key: Ayan\n",
      "through key: Ayan\n"
     ]
    }
   ],
   "source": [
    "for key, value in Saylani.items():\n",
    "    print(f\"Key is: {key}\")\n",
    "    print(f\"Value is: {value}\")\n",
    "    print(f\"through key: {Saylani[key]['instructor']}\")\n",
    "    print(f\"through key: {value['instructor']}\")"
   ]
  },
  {
   "cell_type": "markdown",
   "metadata": {},
   "source": [
    "# Functions"
   ]
  },
  {
   "cell_type": "markdown",
   "metadata": {},
   "source": [
    "### FUNCTIONS\n",
    "- print()   \n",
    "- type() return TYPE of variable\n",
    "- id()   return ADDRESS of variable\n",
    "\n",
    "\n",
    "#### Functions are like blackbox that perform certain operations\n",
    "\n",
    "input --> function(operation) --> desired result (based on operation)"
   ]
  },
  {
   "cell_type": "markdown",
   "metadata": {},
   "source": [
    "#### Syntax;\n",
    "\n",
    "def <func_name>():\n",
    "    <func_body>"
   ]
  },
  {
   "cell_type": "code",
   "execution_count": 39,
   "metadata": {},
   "outputs": [],
   "source": [
    "def print_func():\n",
    "    print(\"SMIT\")"
   ]
  },
  {
   "cell_type": "code",
   "execution_count": 40,
   "metadata": {},
   "outputs": [
    {
     "name": "stdout",
     "output_type": "stream",
     "text": [
      "SMIT\n"
     ]
    }
   ],
   "source": [
    "print_func()"
   ]
  },
  {
   "cell_type": "code",
   "execution_count": 41,
   "metadata": {},
   "outputs": [],
   "source": [
    "# Hardcoded values\n",
    "\n",
    "def Add_func():\n",
    "    n1 = 4\n",
    "    n2 = 6\n",
    "    Tot = n1 + n2\n",
    "    print(\"The sum of two numbers is\", Tot)"
   ]
  },
  {
   "cell_type": "code",
   "execution_count": 43,
   "metadata": {},
   "outputs": [
    {
     "name": "stdout",
     "output_type": "stream",
     "text": [
      "The sum of two numbers is 10\n"
     ]
    }
   ],
   "source": [
    "Add_func()"
   ]
  },
  {
   "cell_type": "markdown",
   "metadata": {},
   "source": [
    "Parameterized Functions for dynamic values"
   ]
  },
  {
   "cell_type": "code",
   "execution_count": 46,
   "metadata": {},
   "outputs": [],
   "source": [
    "def Add_func(n1,n2):\n",
    "    print(\"The sum of two numbers is\", n1+n2)"
   ]
  },
  {
   "cell_type": "code",
   "execution_count": 47,
   "metadata": {},
   "outputs": [
    {
     "name": "stdout",
     "output_type": "stream",
     "text": [
      "The sum of two numbers is 3\n"
     ]
    }
   ],
   "source": [
    "Add_func(1,2)"
   ]
  },
  {
   "cell_type": "markdown",
   "metadata": {},
   "source": [
    "Kelvin to Celsius"
   ]
  },
  {
   "cell_type": "code",
   "execution_count": 48,
   "metadata": {},
   "outputs": [],
   "source": [
    "def temp_kelvin(Cesius, Default_kelvin_value):\n",
    "    print(Cesius + Default_kelvin_value)"
   ]
  },
  {
   "cell_type": "code",
   "execution_count": 49,
   "metadata": {},
   "outputs": [
    {
     "name": "stdout",
     "output_type": "stream",
     "text": [
      "308.15\n"
     ]
    }
   ],
   "source": [
    "temp_kelvin(35,273.15)"
   ]
  },
  {
   "cell_type": "markdown",
   "metadata": {},
   "source": [
    "#### ALways non default value msut be come first in parameter of functions"
   ]
  },
  {
   "cell_type": "code",
   "execution_count": 50,
   "metadata": {},
   "outputs": [],
   "source": [
    "def temp_kelvin(Cesius, Default_kelvin_value = 273.15):\n",
    "    print(Cesius + Default_kelvin_value)"
   ]
  },
  {
   "cell_type": "code",
   "execution_count": 53,
   "metadata": {},
   "outputs": [
    {
     "name": "stdout",
     "output_type": "stream",
     "text": [
      "318.15\n"
     ]
    }
   ],
   "source": [
    "temp_kelvin(45)"
   ]
  },
  {
   "cell_type": "code",
   "execution_count": 55,
   "metadata": {},
   "outputs": [
    {
     "name": "stdout",
     "output_type": "stream",
     "text": [
      "280\n"
     ]
    }
   ],
   "source": [
    "# Overwrite value\n",
    "temp_kelvin(35,245)"
   ]
  },
  {
   "cell_type": "code",
   "execution_count": 1,
   "metadata": {},
   "outputs": [],
   "source": [
    "def Greetings(F_name, L_name, Greetings=\"Welcome\"):\n",
    "    print(f\"Hey, {F_name} {L_name} {Greetings}\")"
   ]
  },
  {
   "cell_type": "code",
   "execution_count": 4,
   "metadata": {},
   "outputs": [
    {
     "name": "stdout",
     "output_type": "stream",
     "text": [
      "Hey, Muhammad Anas Welcome\n"
     ]
    }
   ],
   "source": [
    "Greetings(\"Muhammad\", \"Anas\")"
   ]
  },
  {
   "cell_type": "markdown",
   "metadata": {},
   "source": [
    "Keyword Arguments"
   ]
  },
  {
   "cell_type": "code",
   "execution_count": 3,
   "metadata": {},
   "outputs": [
    {
     "name": "stdout",
     "output_type": "stream",
     "text": [
      "Hey, Anas Muhammad Welcome\n"
     ]
    }
   ],
   "source": [
    "Greetings(\"Anas\", \"Muhammad\")"
   ]
  },
  {
   "cell_type": "code",
   "execution_count": 5,
   "metadata": {},
   "outputs": [
    {
     "name": "stdout",
     "output_type": "stream",
     "text": [
      "Hey, Muhammad Anas Welcome\n"
     ]
    }
   ],
   "source": [
    "# Positional arguments\n",
    "Greetings(L_name=\"Anas\", F_name=\"Muhammad\")"
   ]
  },
  {
   "cell_type": "code",
   "execution_count": null,
   "metadata": {},
   "outputs": [],
   "source": []
  }
 ],
 "metadata": {
  "kernelspec": {
   "display_name": "base",
   "language": "python",
   "name": "python3"
  },
  "language_info": {
   "codemirror_mode": {
    "name": "ipython",
    "version": 3
   },
   "file_extension": ".py",
   "mimetype": "text/x-python",
   "name": "python",
   "nbconvert_exporter": "python",
   "pygments_lexer": "ipython3",
   "version": "3.11.7"
  }
 },
 "nbformat": 4,
 "nbformat_minor": 2
}
