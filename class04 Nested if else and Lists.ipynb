{
 "cells": [
  {
   "cell_type": "markdown",
   "id": "b3326b79-b090-4ce5-91c1-86ffd3886543",
   "metadata": {},
   "source": [
    "## RECAP"
   ]
  },
  {
   "cell_type": "code",
   "execution_count": 2,
   "id": "70a9ca63-8cde-4c16-8f73-b25d31b03918",
   "metadata": {},
   "outputs": [
    {
     "name": "stdout",
     "output_type": "stream",
     "text": [
      "Alteast Matric is the Bare Minimum Requirement\n"
     ]
    }
   ],
   "source": [
    "matric_pass = False\n",
    "\n",
    "#conditional statements\n",
    "if matric_pass:\n",
    "    print(f\"Can Proceed with the Test\")\n",
    "else:\n",
    "    print(f\"Alteast Matric is the Bare Minimum Requirement\")"
   ]
  },
  {
   "cell_type": "markdown",
   "id": "37904b42-e261-448b-8ce7-5566a50f3ea7",
   "metadata": {},
   "source": [
    "## NESTED IF ELSE"
   ]
  },
  {
   "cell_type": "code",
   "execution_count": 5,
   "id": "32989900-d6ae-4d0d-ae45-10db38c71154",
   "metadata": {},
   "outputs": [
    {
     "name": "stdout",
     "output_type": "stream",
     "text": [
      "Can Proceed with the Test\n"
     ]
    },
    {
     "name": "stdin",
     "output_type": "stream",
     "text": [
      "Status of test (pass/fail): fail\n"
     ]
    },
    {
     "name": "stdout",
     "output_type": "stream",
     "text": [
      "You're in Waiting List\n"
     ]
    }
   ],
   "source": [
    "matric_pass = True\n",
    "\n",
    "\n",
    "#conditional statements\n",
    "if matric_pass:\n",
    "    print(f\"Can Proceed with the Test\")\n",
    "    test_cleared = input(\"Status of test (pass/fail):\")\n",
    "    #nested if \n",
    "    if test_cleared == \"pass\":\n",
    "        print(f\"Can take Addmission\")\n",
    "    else:\n",
    "        print(f\"You're in Waiting List\")\n",
    "else:\n",
    "    print(f\"Alteast Matric is the Bare Minimum Requirement\")"
   ]
  },
  {
   "cell_type": "raw",
   "id": "cdc0d9f2-c779-4ce8-823d-28407cf0ecd2",
   "metadata": {},
   "source": [
    "TASK1: Write a program that check if the student has cleared test & matriculation then he/she can take addmission otherwise not"
   ]
  },
  {
   "cell_type": "code",
   "execution_count": 12,
   "id": "e8c1b5fd-aec2-4d3f-8ee8-b63fe8dd0e23",
   "metadata": {},
   "outputs": [
    {
     "name": "stdin",
     "output_type": "stream",
     "text": [
      "Enter Educational Status (Ture/False):  True\n"
     ]
    },
    {
     "name": "stdout",
     "output_type": "stream",
     "text": [
      "you`re on waiting list\n"
     ]
    }
   ],
   "source": [
    "matric_pass = bool(input(\"Enter Educational Status (True/False): \"))\n",
    "test_cleared = False\n",
    "\n",
    "''' multi line comment example\n",
    " condition statement \n",
    " we are validating salyani students \n",
    " creteria is student will be matric pass and test cleared\n",
    "'''\n",
    "\n",
    "if (matric_pass and test_cleared):\n",
    "    print(\"You got admission\")\n",
    "elif (matric_pass):\n",
    "    print(\"you`re on waiting list\")\n",
    "else: \n",
    "    print(\"you can not enrolled in this class\")\n",
    "    "
   ]
  },
  {
   "cell_type": "markdown",
   "id": "47d063b7-d7d3-497b-b6b6-3db439f3bcfb",
   "metadata": {},
   "source": [
    "## LIST\n",
    "\n",
    "Problem: Can't sotre similar type values in varibales <br>\n",
    "Soltuion: List introduction a way to sotre same collection of values"
   ]
  },
  {
   "cell_type": "code",
   "execution_count": 13,
   "id": "b9d2be54-bce7-4e9a-8106-745d6a104ab3",
   "metadata": {},
   "outputs": [],
   "source": [
    "city_0 = \"Atlanta\"\n",
    "city_1 = \"Baltimore\"\n",
    "city_2 = \"Chicago\"\n",
    "city_3 = \"Denver\"\n",
    "city_4 = \"Los Angeles\"\n",
    "city_5 = \"Seattle\""
   ]
  },
  {
   "cell_type": "raw",
   "id": "edaadb8f-679b-4ab7-88d0-dc2fe02c8756",
   "metadata": {},
   "source": [
    "SYNTAX OF LIST:\n",
    "list_name = [ value1, values2]"
   ]
  },
  {
   "cell_type": "code",
   "execution_count": 14,
   "id": "5aef1dbe-36d3-4462-9a95-d264d7989e97",
   "metadata": {},
   "outputs": [],
   "source": [
    "#           0           1            2         3           4             5\n",
    "cities = [\"Atlanta\", \"Baltimore\", \"Chicago\", \"Denver\", \"Los Angeles\", \"Seattle\"]\n",
    "#           -6            -5         -4         -3          -2           -1"
   ]
  },
  {
   "cell_type": "code",
   "execution_count": 16,
   "id": "4f989775-d103-4968-83ac-213151f5b1ad",
   "metadata": {},
   "outputs": [
    {
     "name": "stdout",
     "output_type": "stream",
     "text": [
      "<class 'list'>\n"
     ]
    }
   ],
   "source": [
    "print(type(cities))"
   ]
  },
  {
   "cell_type": "markdown",
   "id": "cb27447a-bcb7-4871-bb97-3618f7e17a26",
   "metadata": {},
   "source": [
    "#### Extracting Values from list"
   ]
  },
  {
   "cell_type": "code",
   "execution_count": 18,
   "id": "30a6f1f3-803e-4100-88b5-13a3cf659af6",
   "metadata": {},
   "outputs": [
    {
     "data": {
      "text/plain": [
       "('Atlanta', 'Baltimore')"
      ]
     },
     "execution_count": 18,
     "metadata": {},
     "output_type": "execute_result"
    }
   ],
   "source": [
    "cities[0]"
   ]
  },
  {
   "cell_type": "code",
   "execution_count": 19,
   "id": "b7c8374e-265a-4110-ab81-e25a0f6491fb",
   "metadata": {},
   "outputs": [
    {
     "data": {
      "text/plain": [
       "'Chicago'"
      ]
     },
     "execution_count": 19,
     "metadata": {},
     "output_type": "execute_result"
    }
   ],
   "source": [
    "cities[2]"
   ]
  },
  {
   "cell_type": "code",
   "execution_count": 20,
   "id": "072eb97e-7a00-4667-849d-52552329ba3e",
   "metadata": {},
   "outputs": [
    {
     "data": {
      "text/plain": [
       "'Seattle'"
      ]
     },
     "execution_count": 20,
     "metadata": {},
     "output_type": "execute_result"
    }
   ],
   "source": [
    "cities[-1]"
   ]
  },
  {
   "cell_type": "markdown",
   "id": "b1110311-ff4c-4f10-badd-261d60920c0d",
   "metadata": {},
   "source": [
    "#### Taking slices out of them"
   ]
  },
  {
   "cell_type": "code",
   "execution_count": 21,
   "id": "3f15b608-6bda-47e3-b293-25d319d14eb3",
   "metadata": {},
   "outputs": [
    {
     "data": {
      "text/plain": [
       "['Atlanta', 'Baltimore', 'Chicago', 'Denver', 'Los Angeles', 'Seattle']"
      ]
     },
     "execution_count": 21,
     "metadata": {},
     "output_type": "execute_result"
    }
   ],
   "source": [
    "cities"
   ]
  },
  {
   "cell_type": "code",
   "execution_count": 23,
   "id": "c08ab515-f28c-4a5d-b2ad-a04e99f2a7fc",
   "metadata": {},
   "outputs": [
    {
     "data": {
      "text/plain": [
       "['Atlanta', 'Baltimore', 'Chicago', 'Denver']"
      ]
     },
     "execution_count": 23,
     "metadata": {},
     "output_type": "execute_result"
    }
   ],
   "source": [
    "cities[:4] # last index is excluded "
   ]
  },
  {
   "cell_type": "code",
   "execution_count": 24,
   "id": "86e5a239-f863-4e33-b451-237e8386927b",
   "metadata": {},
   "outputs": [
    {
     "data": {
      "text/plain": [
       "['Chicago', 'Denver']"
      ]
     },
     "execution_count": 24,
     "metadata": {},
     "output_type": "execute_result"
    }
   ],
   "source": [
    "cities[2:4] # first values is included"
   ]
  },
  {
   "cell_type": "markdown",
   "id": "6a9b1f4e-c003-4fe4-ab6e-9e747ab49a8e",
   "metadata": {},
   "source": [
    "_NOTE: In slicing first values is included & last values is excluded_"
   ]
  },
  {
   "cell_type": "raw",
   "id": "bfb0dceb-3a58-48b8-bbc3-77a009d78335",
   "metadata": {},
   "source": [
    "TASK2: Use negative slicing & get 'Denver', 'Los Angeles' from cities list"
   ]
  },
  {
   "cell_type": "code",
   "execution_count": 26,
   "id": "3e5d6d0a-de60-47ea-a32f-3a488cfa2f9d",
   "metadata": {},
   "outputs": [
    {
     "data": {
      "text/plain": [
       "['Denver', 'Los Angeles']"
      ]
     },
     "execution_count": 26,
     "metadata": {},
     "output_type": "execute_result"
    }
   ],
   "source": [
    "cities[-3:-1] # same slicing rules should be applied here"
   ]
  },
  {
   "cell_type": "code",
   "execution_count": 27,
   "id": "4bf2af14-b910-439f-8070-4d2c1cb31158",
   "metadata": {},
   "outputs": [
    {
     "data": {
      "text/plain": [
       "['Denver', 'Los Angeles', 'Seattle']"
      ]
     },
     "execution_count": 27,
     "metadata": {},
     "output_type": "execute_result"
    }
   ],
   "source": [
    "cities[-3:]"
   ]
  },
  {
   "cell_type": "raw",
   "id": "63bf34e7-da30-4b35-bfc2-0b2c872d1ec8",
   "metadata": {},
   "source": [
    "TASK3: Write a code that skip one city after another from start"
   ]
  },
  {
   "cell_type": "code",
   "execution_count": 30,
   "id": "c5bea88e-d1fe-4711-801c-91c5ba7af889",
   "metadata": {},
   "outputs": [
    {
     "data": {
      "text/plain": [
       "['Atlanta', 'Chicago', 'Los Angeles']"
      ]
     },
     "execution_count": 30,
     "metadata": {},
     "output_type": "execute_result"
    }
   ],
   "source": [
    "cities[::2]"
   ]
  },
  {
   "cell_type": "raw",
   "id": "66788540-3078-4970-bdb2-8d207cddad77",
   "metadata": {},
   "source": [
    "TASK4: Write a code the reverse the list"
   ]
  },
  {
   "cell_type": "code",
   "execution_count": 32,
   "id": "12b67366-b31b-4080-8d04-2f04cec3aa38",
   "metadata": {},
   "outputs": [
    {
     "data": {
      "text/plain": [
       "['Seattle', 'Los Angeles', 'Denver', 'Chicago', 'Baltimore', 'Atlanta']"
      ]
     },
     "execution_count": 32,
     "metadata": {},
     "output_type": "execute_result"
    }
   ],
   "source": [
    "cities[::-1] #madam"
   ]
  },
  {
   "cell_type": "markdown",
   "id": "9e33344e-990c-4422-9ee8-5f34a1b3df1c",
   "metadata": {},
   "source": [
    "#### Adding & Inserting Values"
   ]
  },
  {
   "cell_type": "code",
   "execution_count": null,
   "id": "d8cb603c-2c03-4879-9e1d-b9698bff950f",
   "metadata": {},
   "outputs": [],
   "source": [
    "cities. # METHODS-1: Press TAB to get intelligence reagrding available functions"
   ]
  },
  {
   "cell_type": "code",
   "execution_count": 34,
   "id": "68108673-3c0e-46cb-b270-fb5ea7741258",
   "metadata": {},
   "outputs": [
    {
     "data": {
      "text/plain": [
       "['__add__',\n",
       " '__class__',\n",
       " '__class_getitem__',\n",
       " '__contains__',\n",
       " '__delattr__',\n",
       " '__delitem__',\n",
       " '__dir__',\n",
       " '__doc__',\n",
       " '__eq__',\n",
       " '__format__',\n",
       " '__ge__',\n",
       " '__getattribute__',\n",
       " '__getitem__',\n",
       " '__getstate__',\n",
       " '__gt__',\n",
       " '__hash__',\n",
       " '__iadd__',\n",
       " '__imul__',\n",
       " '__init__',\n",
       " '__init_subclass__',\n",
       " '__iter__',\n",
       " '__le__',\n",
       " '__len__',\n",
       " '__lt__',\n",
       " '__mul__',\n",
       " '__ne__',\n",
       " '__new__',\n",
       " '__reduce__',\n",
       " '__reduce_ex__',\n",
       " '__repr__',\n",
       " '__reversed__',\n",
       " '__rmul__',\n",
       " '__setattr__',\n",
       " '__setitem__',\n",
       " '__sizeof__',\n",
       " '__str__',\n",
       " '__subclasshook__',\n",
       " 'append',\n",
       " 'clear',\n",
       " 'copy',\n",
       " 'count',\n",
       " 'extend',\n",
       " 'index',\n",
       " 'insert',\n",
       " 'pop',\n",
       " 'remove',\n",
       " 'reverse',\n",
       " 'sort']"
      ]
     },
     "execution_count": 34,
     "metadata": {},
     "output_type": "execute_result"
    }
   ],
   "source": [
    "dir(cities) # METHOD-2: To list the attributes (methods, properties, and other members) of an object."
   ]
  },
  {
   "cell_type": "code",
   "execution_count": 37,
   "id": "02ed55b4-a850-46de-8221-6f353be24f85",
   "metadata": {},
   "outputs": [],
   "source": [
    "cities.append(\"New York City\") # by default add value at the end of list"
   ]
  },
  {
   "cell_type": "code",
   "execution_count": 38,
   "id": "6128d30f-010a-4393-81a7-41bf12fcee0c",
   "metadata": {},
   "outputs": [
    {
     "data": {
      "text/plain": [
       "['Atlanta',\n",
       " 'Baltimore',\n",
       " 'Chicago',\n",
       " 'Denver',\n",
       " 'Los Angeles',\n",
       " 'Seattle',\n",
       " 'New York City']"
      ]
     },
     "execution_count": 38,
     "metadata": {},
     "output_type": "execute_result"
    }
   ],
   "source": [
    "cities"
   ]
  },
  {
   "cell_type": "code",
   "execution_count": 39,
   "id": "8b7b9d81-dd6d-4776-8755-0f26791a5ad8",
   "metadata": {},
   "outputs": [],
   "source": [
    "cities.insert(0, \"Texas\")"
   ]
  },
  {
   "cell_type": "code",
   "execution_count": 40,
   "id": "4d2ffe7c-1116-47b9-9c09-886371f304a6",
   "metadata": {},
   "outputs": [
    {
     "data": {
      "text/plain": [
       "['Texas',\n",
       " 'Atlanta',\n",
       " 'Baltimore',\n",
       " 'Chicago',\n",
       " 'Denver',\n",
       " 'Los Angeles',\n",
       " 'Seattle',\n",
       " 'New York City']"
      ]
     },
     "execution_count": 40,
     "metadata": {},
     "output_type": "execute_result"
    }
   ],
   "source": [
    "cities"
   ]
  },
  {
   "cell_type": "code",
   "execution_count": 42,
   "id": "aa8e7fc5-e9cd-4d5c-811a-1b3fa4200d21",
   "metadata": {},
   "outputs": [
    {
     "data": {
      "text/plain": [
       "['Texas',\n",
       " 'Atlanta',\n",
       " 'Baltimore',\n",
       " 'Chicago',\n",
       " 'Denver',\n",
       " 'Los Angeles',\n",
       " 'Seattle',\n",
       " 'New York City',\n",
       " 'Dallas']"
      ]
     },
     "execution_count": 42,
     "metadata": {},
     "output_type": "execute_result"
    }
   ],
   "source": [
    "cities + ['Dallas'] # concatenation of lists"
   ]
  },
  {
   "cell_type": "code",
   "execution_count": 44,
   "id": "4bc33c9c-6ed8-44a4-ae8c-ce8aaabfbf29",
   "metadata": {},
   "outputs": [],
   "source": [
    "cities = cities + ['Dallas']"
   ]
  },
  {
   "cell_type": "code",
   "execution_count": 45,
   "id": "5fefc044-693b-4fca-be52-927d656e7741",
   "metadata": {},
   "outputs": [
    {
     "data": {
      "text/plain": [
       "['Texas',\n",
       " 'Atlanta',\n",
       " 'Baltimore',\n",
       " 'Chicago',\n",
       " 'Denver',\n",
       " 'Los Angeles',\n",
       " 'Seattle',\n",
       " 'New York City',\n",
       " 'Dallas']"
      ]
     },
     "execution_count": 45,
     "metadata": {},
     "output_type": "execute_result"
    }
   ],
   "source": [
    "cities"
   ]
  },
  {
   "cell_type": "markdown",
   "id": "edd088be-dfbe-46d7-a6b9-a5f23f0ff814",
   "metadata": {},
   "source": [
    "#### Deleting and removing elements"
   ]
  },
  {
   "cell_type": "code",
   "execution_count": 46,
   "id": "7a3360b4-c3d4-49b0-8500-ab5c49886bc0",
   "metadata": {},
   "outputs": [],
   "source": [
    "cities.remove('New York City') # METHOD-1 Deleting by passing Value"
   ]
  },
  {
   "cell_type": "code",
   "execution_count": 47,
   "id": "33c408cf-0160-411d-93ef-c5036d0f38fa",
   "metadata": {},
   "outputs": [
    {
     "data": {
      "text/plain": [
       "['Texas',\n",
       " 'Atlanta',\n",
       " 'Baltimore',\n",
       " 'Chicago',\n",
       " 'Denver',\n",
       " 'Los Angeles',\n",
       " 'Seattle',\n",
       " 'Dallas']"
      ]
     },
     "execution_count": 47,
     "metadata": {},
     "output_type": "execute_result"
    }
   ],
   "source": [
    "cities"
   ]
  },
  {
   "cell_type": "code",
   "execution_count": 48,
   "id": "75da3be8-12ef-41b3-8ac6-4da46f140dfe",
   "metadata": {},
   "outputs": [],
   "source": [
    "del(cities[0]) # MTHEOD-2 deleting from aprticular index"
   ]
  },
  {
   "cell_type": "code",
   "execution_count": 49,
   "id": "ccd6a793-d11f-431a-b289-6482cd0d9527",
   "metadata": {},
   "outputs": [
    {
     "data": {
      "text/plain": [
       "['Atlanta',\n",
       " 'Baltimore',\n",
       " 'Chicago',\n",
       " 'Denver',\n",
       " 'Los Angeles',\n",
       " 'Seattle',\n",
       " 'Dallas']"
      ]
     },
     "execution_count": 49,
     "metadata": {},
     "output_type": "execute_result"
    }
   ],
   "source": [
    "cities"
   ]
  },
  {
   "cell_type": "markdown",
   "id": "f2c7918f-ce9a-4df2-ac93-02c40e069958",
   "metadata": {},
   "source": [
    "#### Poping Values from List"
   ]
  },
  {
   "cell_type": "code",
   "execution_count": 50,
   "id": "d25fda76-58bc-488c-87dc-fb9d9a57afc6",
   "metadata": {},
   "outputs": [],
   "source": [
    "holding_pop_city = cities.pop() # values get removed from list & stor in varibale"
   ]
  },
  {
   "cell_type": "code",
   "execution_count": 51,
   "id": "e1ed31fb-937a-49fa-9f0c-c138d7dc2f57",
   "metadata": {},
   "outputs": [
    {
     "data": {
      "text/plain": [
       "'Dallas'"
      ]
     },
     "execution_count": 51,
     "metadata": {},
     "output_type": "execute_result"
    }
   ],
   "source": [
    "holding_pop_city"
   ]
  },
  {
   "cell_type": "code",
   "execution_count": 53,
   "id": "090185fb-e698-4744-9a8e-22cec8e22725",
   "metadata": {},
   "outputs": [
    {
     "data": {
      "text/plain": [
       "'Chicago'"
      ]
     },
     "execution_count": 53,
     "metadata": {},
     "output_type": "execute_result"
    }
   ],
   "source": [
    "cities.pop(2) # can give positive value "
   ]
  },
  {
   "cell_type": "code",
   "execution_count": 54,
   "id": "7e919980-523d-4819-8dc2-e2dfab971f90",
   "metadata": {},
   "outputs": [
    {
     "data": {
      "text/plain": [
       "['Atlanta', 'Baltimore', 'Denver', 'Los Angeles', 'Seattle']"
      ]
     },
     "execution_count": 54,
     "metadata": {},
     "output_type": "execute_result"
    }
   ],
   "source": [
    "cities"
   ]
  },
  {
   "cell_type": "code",
   "execution_count": 57,
   "id": "347c7d96-71f3-42fd-8e35-729a4e734b8a",
   "metadata": {},
   "outputs": [],
   "source": [
    "tasks = ['prayingFajr', 'running', 'Breakfast', 'studying']\n",
    "tasks_done = []"
   ]
  },
  {
   "cell_type": "code",
   "execution_count": 58,
   "id": "63b78049-3a35-4cd0-8e32-dbd9f119608e",
   "metadata": {},
   "outputs": [],
   "source": [
    "tasks_done.append(tasks.pop(0))"
   ]
  },
  {
   "cell_type": "code",
   "execution_count": 59,
   "id": "613044eb-f457-4042-a83b-27e3041416f6",
   "metadata": {},
   "outputs": [
    {
     "data": {
      "text/plain": [
       "['running', 'Breakfast', 'studying']"
      ]
     },
     "execution_count": 59,
     "metadata": {},
     "output_type": "execute_result"
    }
   ],
   "source": [
    "tasks"
   ]
  },
  {
   "cell_type": "code",
   "execution_count": 61,
   "id": "92c45adc-3907-46f5-bf2a-4ad4c49bebb9",
   "metadata": {},
   "outputs": [
    {
     "data": {
      "text/plain": [
       "['prayingFajr']"
      ]
     },
     "execution_count": 61,
     "metadata": {},
     "output_type": "execute_result"
    }
   ],
   "source": [
    "tasks_done"
   ]
  },
  {
   "cell_type": "markdown",
   "id": "6c634537-5204-408a-89ca-bc8bb4d1223c",
   "metadata": {},
   "source": [
    "#### Extra Methods"
   ]
  },
  {
   "cell_type": "code",
   "execution_count": 64,
   "id": "950b9970-f664-455b-bd64-b5db0700d2a0",
   "metadata": {},
   "outputs": [],
   "source": [
    "tasks_done.clear() # removed all values from list & made it empty list"
   ]
  },
  {
   "cell_type": "code",
   "execution_count": 65,
   "id": "be56655b-6378-41b7-b9bc-d5d7334812e8",
   "metadata": {},
   "outputs": [
    {
     "data": {
      "text/plain": [
       "[]"
      ]
     },
     "execution_count": 65,
     "metadata": {},
     "output_type": "execute_result"
    }
   ],
   "source": [
    "tasks_done"
   ]
  },
  {
   "attachments": {
    "bd1aa244-cf1f-4949-8142-b573d9af472e.png": {
     "image/png": "[encoded data removed]"
    },
    "c9624667-1a70-44a5-8e9a-56a0278eb5f6.png": {
     "image/png": "[encoded data removed]"
    }
   },
   "cell_type": "markdown",
   "id": "3c8996de-bf86-4ea0-9eb2-d6eb6b1c4099",
   "metadata": {},
   "source": [
    "#### Concept of Shallow & Deep Copy\n",
    "![image.png](attachment:c9624667-1a70-44a5-8e9a-56a0278eb5f6.png)![image.png](attachment:bd1aa244-cf1f-4949-8142-b573d9af472e.png)"
   ]
  },
  {
   "cell_type": "markdown",
   "id": "dfac6c41-ab98-4aaa-a6b0-ef2c2da7b52f",
   "metadata": {},
   "source": [
    "Shallow Copy: \n",
    "- Referencing the same origial\n",
    "- Changing in original can affect the copy\n",
    "\n",
    "Deep Copy:\n",
    "- createa seperate copy of the object\n",
    "- Changing in original cann't affect the copy"
   ]
  },
  {
   "cell_type": "code",
   "execution_count": 66,
   "id": "31a73c35-a40a-4e95-8662-68756d24df09",
   "metadata": {},
   "outputs": [],
   "source": [
    "todolist = tasks.copy() # deep copy"
   ]
  },
  {
   "cell_type": "code",
   "execution_count": 67,
   "id": "736a9ddf-37f1-4565-9a55-6ad8d7725160",
   "metadata": {},
   "outputs": [
    {
     "data": {
      "text/plain": [
       "['running', 'Breakfast', 'studying']"
      ]
     },
     "execution_count": 67,
     "metadata": {},
     "output_type": "execute_result"
    }
   ],
   "source": [
    "todolist"
   ]
  },
  {
   "cell_type": "code",
   "execution_count": 68,
   "id": "1b924bb5-8fd4-447f-a4d8-29f189b21a5c",
   "metadata": {},
   "outputs": [
    {
     "data": {
      "text/plain": [
       "['running', 'Breakfast', 'studying']"
      ]
     },
     "execution_count": 68,
     "metadata": {},
     "output_type": "execute_result"
    }
   ],
   "source": [
    "tasks"
   ]
  },
  {
   "cell_type": "code",
   "execution_count": 72,
   "id": "662d6f0d-39be-4215-b987-98fff46b30fc",
   "metadata": {},
   "outputs": [],
   "source": [
    "tasks.append(\"Shopping\") # changing in original"
   ]
  },
  {
   "cell_type": "code",
   "execution_count": 73,
   "id": "69408da3-60b7-4ca3-8e9c-f344ca3eb8f5",
   "metadata": {},
   "outputs": [
    {
     "data": {
      "text/plain": [
       "['running', 'Breakfast', 'studying', 'Shopping']"
      ]
     },
     "execution_count": 73,
     "metadata": {},
     "output_type": "execute_result"
    }
   ],
   "source": [
    "tasks"
   ]
  },
  {
   "cell_type": "code",
   "execution_count": 74,
   "id": "7195422d-e4f3-4ddf-a85a-fde5759fcfa2",
   "metadata": {},
   "outputs": [
    {
     "data": {
      "text/plain": [
       "['running', 'Breakfast', 'studying']"
      ]
     },
     "execution_count": 74,
     "metadata": {},
     "output_type": "execute_result"
    }
   ],
   "source": [
    "todolist # didn't affect the copied list"
   ]
  },
  {
   "cell_type": "code",
   "execution_count": null,
   "id": "1d8aaad3-5c9b-430d-baac-8bd47c1b412d",
   "metadata": {},
   "outputs": [],
   "source": []
  }
 ],
 "metadata": {
  "kernelspec": {
   "display_name": "Python 3 (ipykernel)",
   "language": "python",
   "name": "python3"
  },
  "language_info": {
   "codemirror_mode": {
    "name": "ipython",
    "version": 3
   },
   "file_extension": ".py",
   "mimetype": "text/x-python",
   "name": "python",
   "nbconvert_exporter": "python",
   "pygments_lexer": "ipython3",
   "version": "3.11.7"
  }
 },
 "nbformat": 4,
 "nbformat_minor": 5
}
