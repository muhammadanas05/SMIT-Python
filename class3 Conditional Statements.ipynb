{
 "cells": [
  {
   "cell_type": "markdown",
   "id": "651062d9-673d-4a8b-9ab8-8c4c08b67a4c",
   "metadata": {},
   "source": [
    "## Concatenation"
   ]
  },
  {
   "cell_type": "code",
   "execution_count": 1,
   "id": "e9fcda43-25eb-4e4a-99bf-33165f86e4ba",
   "metadata": {},
   "outputs": [],
   "source": [
    "f_name = \"Qasim\" #string\n",
    "l_name = \"Hassan\" #string\n",
    "age = 15 #integer\n",
    "weight = 15.5 #float\n",
    "is_trainer = True #boolean"
   ]
  },
  {
   "cell_type": "code",
   "execution_count": 3,
   "id": "67e0c98b-cec0-4c56-a86d-05f6b3151a5a",
   "metadata": {},
   "outputs": [
    {
     "data": {
      "text/plain": [
       "'Trainer Name of Python class is Qasim Hassan'"
      ]
     },
     "execution_count": 3,
     "metadata": {},
     "output_type": "execute_result"
    }
   ],
   "source": [
    "#METHOD -1 Using + operator\n",
    "\"Trainer Name of Python class is \" + f_name+ \" \" + l_name"
   ]
  },
  {
   "cell_type": "code",
   "execution_count": 6,
   "id": "a91a6a7f-8f2a-4cb0-b83b-16a02759eb51",
   "metadata": {},
   "outputs": [
    {
     "data": {
      "text/plain": [
       "'Trainer Name of Python class is Qasim Hassan'"
      ]
     },
     "execution_count": 6,
     "metadata": {},
     "output_type": "execute_result"
    }
   ],
   "source": [
    "#METHOD-2\n",
    "f'Trainer Name of Python class is {f_name} {l_name}'"
   ]
  },
  {
   "cell_type": "code",
   "execution_count": 11,
   "id": "ba0d6592-4058-4eb2-902c-1e5ca8c9f90b",
   "metadata": {},
   "outputs": [
    {
     "data": {
      "text/plain": [
       "('Trainer Name of Python class is', 'Qasim', 'Hassan')"
      ]
     },
     "execution_count": 11,
     "metadata": {},
     "output_type": "execute_result"
    }
   ],
   "source": [
    "'Trainer Name of Python class is', f_name, l_name"
   ]
  },
  {
   "cell_type": "code",
   "execution_count": 12,
   "id": "32942b6b-8721-4283-982b-1f7a404f0086",
   "metadata": {},
   "outputs": [
    {
     "name": "stdout",
     "output_type": "stream",
     "text": [
      "Trainer Name of Python class is Qasim Hassan\n"
     ]
    }
   ],
   "source": [
    "print('Trainer Name of Python class is', f_name, l_name)"
   ]
  },
  {
   "cell_type": "code",
   "execution_count": 14,
   "id": "c768945a-7b9f-40f4-9230-7b9bbe5559bb",
   "metadata": {},
   "outputs": [
    {
     "data": {
      "text/plain": [
       "'Trainer Name of Python class is Qasim Hassan'"
      ]
     },
     "execution_count": 14,
     "metadata": {},
     "output_type": "execute_result"
    }
   ],
   "source": [
    "#METHOD-3 .format() takes variable to be concate starts at 0 index\n",
    "\"Trainer Name of Python class is {0} {1}\".format(f_name, l_name)"
   ]
  },
  {
   "cell_type": "markdown",
   "id": "29970719-fbf6-448a-b439-23d108a9bf56",
   "metadata": {},
   "source": [
    "## Conditional Statements"
   ]
  },
  {
   "cell_type": "markdown",
   "id": "e9756b5e-c424-4298-a096-bb58f731f91b",
   "metadata": {},
   "source": [
    "### if-else"
   ]
  },
  {
   "cell_type": "raw",
   "id": "6a2dad75-1e6b-4aba-a4ff-5ece24a042f5",
   "metadata": {},
   "source": [
    "# SYNTAX\n",
    "if <condition>:\n",
    "    <if boday>\n",
    "else:\n",
    "    <else body>"
   ]
  },
  {
   "cell_type": "code",
   "execution_count": 18,
   "id": "a9671f98-db28-4609-8828-40d65bb4e184",
   "metadata": {},
   "outputs": [
    {
     "name": "stdout",
     "output_type": "stream",
     "text": [
      "Pakistani's will not celebrate\n"
     ]
    }
   ],
   "source": [
    "result = \"loss\" # \"win\"/\"loss\"/\"Tie\"\n",
    "\n",
    "# EXAMPLE code\n",
    "if result == \"win\":\n",
    "    print(\"Pakistani's will celebrate\")\n",
    "else:\n",
    "    print(\"Pakistani's will not celebrate\")"
   ]
  },
  {
   "cell_type": "code",
   "execution_count": 19,
   "id": "bd7d614c-b092-4cb6-a704-5dfbf887b78e",
   "metadata": {},
   "outputs": [
    {
     "data": {
      "text/plain": [
       "False"
      ]
     },
     "execution_count": 19,
     "metadata": {},
     "output_type": "execute_result"
    }
   ],
   "source": [
    "result == 'win'"
   ]
  },
  {
   "cell_type": "markdown",
   "id": "80df2165-f01e-432e-99c9-d46e2d1a5e95",
   "metadata": {},
   "source": [
    "### if-elif-else"
   ]
  },
  {
   "cell_type": "code",
   "execution_count": 20,
   "id": "d502d1aa-7e40-4b39-bce1-0833c5ab1bf4",
   "metadata": {},
   "outputs": [
    {
     "name": "stdout",
     "output_type": "stream",
     "text": [
      "Both teams will get one point\n"
     ]
    }
   ],
   "source": [
    "# EXAMPLE code\n",
    "result = \"tie\"\n",
    "\n",
    "if result == \"win\":\n",
    "    print(\"Pakistani's will celebrate\")\n",
    "elif result == \"tie\":\n",
    "    print(\"Both teams will get one point\")\n",
    "else:\n",
    "    print(\"Pakistani's will not celebrate\")"
   ]
  },
  {
   "cell_type": "code",
   "execution_count": 35,
   "id": "14ccbab8-26e9-483f-8715-0ebfe80d469d",
   "metadata": {},
   "outputs": [
    {
     "name": "stdin",
     "output_type": "stream",
     "text": [
      "Enter your Vehicle Name:  mehran\n"
     ]
    },
    {
     "name": "stdout",
     "output_type": "stream",
     "text": [
      "The car name is mehran\n"
     ]
    }
   ],
   "source": [
    "vehicle = input(\"Enter your Vehicle Name: \")\n",
    "if(vehicle==\"mehran\"):\n",
    "    print(f'The car name is {vehicle}')\n",
    "elif(vehicle==\"toyota\"):\n",
    "    print(f'The car name is {vehicle}')\n",
    "elif(vehicle==\"suzuki\"):\n",
    "    print(f'The car name is {vehicle}')\n",
    "elif(vehicle==\"alto\"):\n",
    "    print(f'The car name is {vehicle}')\n",
    "else:\n",
    "    print(f'The car  is not available')\n",
    "    "
   ]
  },
  {
   "cell_type": "code",
   "execution_count": 22,
   "id": "230f5cd7-9cea-4c4e-ad5d-7f81bb357e4a",
   "metadata": {},
   "outputs": [
    {
     "name": "stdout",
     "output_type": "stream",
     "text": [
      "Yes, It is a cat of kindom animal\n"
     ]
    }
   ],
   "source": [
    "species = \"cat\"\n",
    "\n",
    "if species == \"cat\":\n",
    "    status = \"ok\"\n",
    "    kingdom = \"animal\"\n",
    "    print(f\"Yes, It is a cat of kindom {kingdom}\")"
   ]
  },
  {
   "cell_type": "code",
   "execution_count": 27,
   "id": "9956d778-81f7-461f-b652-ffb1acb847ec",
   "metadata": {},
   "outputs": [
    {
     "name": "stdout",
     "output_type": "stream",
     "text": [
      "Your grades is A\n"
     ]
    }
   ],
   "source": [
    " marks = 81 # static/hard code\n",
    "\n",
    "if marks >= 80:\n",
    "    print(\"Your grades is A\")\n",
    "elif marks >= 70:\n",
    "    print(\"Your grades is B\")\n",
    "elif marks >= 60:\n",
    "    print(\"Your grades is C\")\n",
    "elif marks > 50:\n",
    "    print(\"Your grades is D\")\n",
    "else:\n",
    "    print(\"Your grades is F\")"
   ]
  },
  {
   "cell_type": "code",
   "execution_count": 29,
   "id": "7240a9dc-3dfc-459f-ad85-06b812cee6ee",
   "metadata": {},
   "outputs": [
    {
     "name": "stdin",
     "output_type": "stream",
     "text": [
      "Enter your Marks:  45\n"
     ]
    },
    {
     "data": {
      "text/plain": [
       "45"
      ]
     },
     "execution_count": 29,
     "metadata": {},
     "output_type": "execute_result"
    }
   ],
   "source": [
    "int(input(\"Enter your Marks: \")) # NOTE: input() always returns string output"
   ]
  },
  {
   "cell_type": "code",
   "execution_count": 34,
   "id": "b554b984-f660-4b14-84ca-eb22ccdf89c5",
   "metadata": {},
   "outputs": [
    {
     "name": "stdin",
     "output_type": "stream",
     "text": [
      "Enter your Marks:  95\n"
     ]
    },
    {
     "name": "stdout",
     "output_type": "stream",
     "text": [
      "Your grades is A\n"
     ]
    }
   ],
   "source": [
    " marks = int(input(\"Enter your Marks: \"))\n",
    "\n",
    "if marks >= 80:\n",
    "    print(\"Your grades is A\")\n",
    "elif marks >= 70:\n",
    "    print(\"Your grades is B\")\n",
    "elif marks >= 60:\n",
    "    print(\"Your grades is C\")\n",
    "elif marks > 50:\n",
    "    print(\"Your grades is D\")\n",
    "else:\n",
    "    print(\"Your grades is F\")"
   ]
  },
  {
   "cell_type": "markdown",
   "id": "829c11c0-4b19-45f0-b7a5-e42135a13433",
   "metadata": {},
   "source": [
    "### Comparsion Operators"
   ]
  },
  {
   "cell_type": "code",
   "execution_count": 36,
   "id": "d6b0643d-0a1d-41ae-9cee-b327cbdc3af8",
   "metadata": {},
   "outputs": [
    {
     "data": {
      "text/plain": [
       "False"
      ]
     },
     "execution_count": 36,
     "metadata": {},
     "output_type": "execute_result"
    }
   ],
   "source": [
    "95 == 80"
   ]
  },
  {
   "cell_type": "code",
   "execution_count": 37,
   "id": "6cfce375-0b90-40f1-9462-69b21640e502",
   "metadata": {},
   "outputs": [
    {
     "data": {
      "text/plain": [
       "True"
      ]
     },
     "execution_count": 37,
     "metadata": {},
     "output_type": "execute_result"
    }
   ],
   "source": [
    "95 != 80"
   ]
  },
  {
   "cell_type": "code",
   "execution_count": 38,
   "id": "9df1b33c-b439-49b1-ade8-fddd3194f657",
   "metadata": {},
   "outputs": [
    {
     "data": {
      "text/plain": [
       "True"
      ]
     },
     "execution_count": 38,
     "metadata": {},
     "output_type": "execute_result"
    }
   ],
   "source": [
    "95 >= 80"
   ]
  },
  {
   "cell_type": "code",
   "execution_count": 43,
   "id": "2d0edc2e-dbe8-480e-925b-1ac21005ad5c",
   "metadata": {},
   "outputs": [
    {
     "data": {
      "text/plain": [
       "False"
      ]
     },
     "execution_count": 43,
     "metadata": {},
     "output_type": "execute_result"
    }
   ],
   "source": [
    "95 <= 80"
   ]
  },
  {
   "cell_type": "code",
   "execution_count": 40,
   "id": "96222326-bb67-42f9-b3e0-318c4fa69f13",
   "metadata": {},
   "outputs": [
    {
     "data": {
      "text/plain": [
       "False"
      ]
     },
     "execution_count": 40,
     "metadata": {},
     "output_type": "execute_result"
    }
   ],
   "source": [
    "95 < 80"
   ]
  },
  {
   "cell_type": "code",
   "execution_count": 41,
   "id": "ab0db986-d3f1-42e5-a8d8-fba15e4e391c",
   "metadata": {},
   "outputs": [
    {
     "data": {
      "text/plain": [
       "True"
      ]
     },
     "execution_count": 41,
     "metadata": {},
     "output_type": "execute_result"
    }
   ],
   "source": [
    "95 > 80"
   ]
  },
  {
   "cell_type": "code",
   "execution_count": 45,
   "id": "0f49e16d-e267-4bd1-880c-3d5673a9cc32",
   "metadata": {},
   "outputs": [
    {
     "data": {
      "text/plain": [
       "'tie'"
      ]
     },
     "execution_count": 45,
     "metadata": {},
     "output_type": "execute_result"
    }
   ],
   "source": [
    "result"
   ]
  },
  {
   "cell_type": "code",
   "execution_count": 44,
   "id": "d537e731-d64f-4618-9891-bfd2130a3976",
   "metadata": {},
   "outputs": [
    {
     "name": "stdout",
     "output_type": "stream",
     "text": [
      "Better luck next time.\n"
     ]
    }
   ],
   "source": [
    "if result != 'win':\n",
    "    print(\"Better luck next time.\")"
   ]
  },
  {
   "cell_type": "code",
   "execution_count": 48,
   "id": "acd085c4-f78b-450a-823b-b3f1bdfbaee0",
   "metadata": {},
   "outputs": [
    {
     "name": "stdout",
     "output_type": "stream",
     "text": [
      "15\n"
     ]
    }
   ],
   "source": [
    "all_available = True\n",
    "is_fresh = True\n",
    "price = \"average\" # Average, low, high\n",
    "\n",
    "score = 0\n",
    "if all_available:\n",
    "    score+=5\n",
    "if is_fresh:\n",
    "    score+=5\n",
    "if price == \"average\":\n",
    "    score+=5\n",
    "\n",
    "print(score)"
   ]
  },
  {
   "cell_type": "raw",
   "id": "8cdbfc4b-b99e-4a0d-8a3a-36dfc4b857a6",
   "metadata": {},
   "source": [
    "# AND => all conditions must be TRUE\n",
    "# OR => one condition must be TRUE\n",
    "\n",
    "A B  AND OR \n",
    "0 0  0   0 \n",
    "1 0  0   1\n",
    "0 1  0   1\n",
    "1 1  1   1\n",
    "\n",
    "NOT\n",
    "0 --> 1\n",
    "1 --> 0"
   ]
  },
  {
   "cell_type": "code",
   "execution_count": 51,
   "id": "8d3e2b98-213b-4a63-9cb0-639f19b1c5ea",
   "metadata": {},
   "outputs": [
    {
     "name": "stdin",
     "output_type": "stream",
     "text": [
      "Enter your Percentage:  64\n",
      "Enter your Age:  17\n"
     ]
    },
    {
     "name": "stdout",
     "output_type": "stream",
     "text": [
      "Not Eligible to take addmission in University\n"
     ]
    }
   ],
   "source": [
    "percenatge_inter = int(input(\"Enter your Percentage: \"))\n",
    "age_limit = int(input(\"Enter your Age: \"))\n",
    "\n",
    "if (percenatge_inter > 60) and (age_limit>=18):\n",
    "    print('Eligible to take addmission in University')\n",
    "else: \n",
    "    print('Not Eligible to take addmission in University')"
   ]
  },
  {
   "cell_type": "code",
   "execution_count": 52,
   "id": "ce78ad2a-9fa2-4099-97eb-65138bd321ef",
   "metadata": {},
   "outputs": [
    {
     "name": "stdin",
     "output_type": "stream",
     "text": [
      "Enter your Percentage:  61\n",
      "Enter your Age:  17\n"
     ]
    },
    {
     "name": "stdout",
     "output_type": "stream",
     "text": [
      "Eligible to take addmission in University\n"
     ]
    }
   ],
   "source": [
    "percenatge_inter = int(input(\"Enter your Percentage: \"))\n",
    "age_limit = int(input(\"Enter your Age: \"))\n",
    "\n",
    "if (percenatge_inter > 60) or (age_limit>=18):\n",
    "    print('Eligible to take addmission in University')\n",
    "else: \n",
    "    print('Not Eligible to take addmission in University')"
   ]
  },
  {
   "cell_type": "code",
   "execution_count": 53,
   "id": "f5ac95ab-70ef-4d87-8428-74d19311a182",
   "metadata": {},
   "outputs": [
    {
     "data": {
      "text/plain": [
       "False"
      ]
     },
     "execution_count": 53,
     "metadata": {},
     "output_type": "execute_result"
    }
   ],
   "source": [
    "not True"
   ]
  },
  {
   "cell_type": "code",
   "execution_count": null,
   "id": "cbf26d2b-5f81-416c-9f69-d4f8c1674249",
   "metadata": {},
   "outputs": [],
   "source": []
  }
 ],
 "metadata": {
  "kernelspec": {
   "display_name": "Python 3 (ipykernel)",
   "language": "python",
   "name": "python3"
  },
  "language_info": {
   "codemirror_mode": {
    "name": "ipython",
    "version": 3
   },
   "file_extension": ".py",
   "mimetype": "text/x-python",
   "name": "python",
   "nbconvert_exporter": "python",
   "pygments_lexer": "ipython3",
   "version": "3.11.7"
  }
 },
 "nbformat": 4,
 "nbformat_minor": 5
}
